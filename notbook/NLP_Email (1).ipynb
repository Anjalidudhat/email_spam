{
  "nbformat": 4,
  "nbformat_minor": 0,
  "metadata": {
    "colab": {
      "provenance": []
    },
    "kernelspec": {
      "name": "python3",
      "display_name": "Python 3"
    },
    "language_info": {
      "name": "python"
    }
  },
  "cells": [
    {
      "cell_type": "code",
      "execution_count": null,
      "metadata": {
        "id": "MiirGTyGsROe"
      },
      "outputs": [],
      "source": [
        "import pandas as pd\n",
        "import numpy as np\n",
        "import matplotlib.pyplot as plt\n",
        "import seaborn as sns\n",
        "from sklearn.linear_model import LogisticRegression\n",
        "from sklearn.ensemble import RandomForestClassifier\n",
        "from sklearn.model_selection import train_test_split\n",
        "from sklearn.svm import LinearSVC\n",
        "from sklearn.metrics import accuracy_score\n",
        "from sklearn.preprocessing import OneHotEncoder, StandardScaler\n",
        "from scipy.sparse import hstack\n",
        "from sklearn.feature_extraction.text import TfidfVectorizer\n",
        "from wordcloud import WordCloud\n",
        "import nltk\n",
        "from nltk.stem import PorterStemmer, WordNetLemmatizer\n",
        "from nltk.corpus import stopwords\n",
        "import re\n",
        "import warnings\n",
        "warnings.filterwarnings('ignore')"
      ]
    },
    {
      "cell_type": "code",
      "source": [
        "df = pd.read_csv('/content/Emails.csv')"
      ],
      "metadata": {
        "id": "Ztt02Q-Tsa8-"
      },
      "execution_count": null,
      "outputs": []
    },
    {
      "cell_type": "code",
      "source": [
        "df.head()"
      ],
      "metadata": {
        "colab": {
          "base_uri": "https://localhost:8080/",
          "height": 206
        },
        "id": "pSApvNy9tPE2",
        "outputId": "cb5ebc3d-43a6-4c8c-e751-0d598b0d8c77"
      },
      "execution_count": null,
      "outputs": [
        {
          "output_type": "execute_result",
          "data": {
            "text/plain": [
              "   Unnamed: 0                  filename  \\\n",
              "0           0   arnold-j/_sent_mail/34.   \n",
              "1           1  arnold-j/_sent_mail/517.   \n",
              "2           2  arnold-j/_sent_mail/743.   \n",
              "3           3  arnold-j/_sent_mail/766.   \n",
              "4           4  arnold-j/_sent_mail/797.   \n",
              "\n",
              "                                      Message-ID  \\\n",
              "0  <15267340.1075857594923.JavaMail.evans@thyme>   \n",
              "1  <15539583.1075857652152.JavaMail.evans@thyme>   \n",
              "2   <4339799.1075857657711.JavaMail.evans@thyme>   \n",
              "3  <25574783.1075857658215.JavaMail.evans@thyme>   \n",
              "4  <19506151.1075857658895.JavaMail.evans@thyme>   \n",
              "\n",
              "                                             content    Class  \n",
              "0  eat shit\\n\\n\\n\\n\\nJohn J Lavorato@excelr\\n11/1...  Abusive  \n",
              "1                                           fuck you  Abusive  \n",
              "2  Gentlemen:\\nThe following champagne is availab...  Abusive  \n",
              "3  sorry i've taken so long...just been trying to...  Abusive  \n",
              "4  asshole\\n\\n\\n\\n\\nJohn J Lavorato@excelr\\n12/23...  Abusive  "
            ],
            "text/html": [
              "\n",
              "  <div id=\"df-e9f7204e-aa39-4c91-a5b9-b80cfec64e41\" class=\"colab-df-container\">\n",
              "    <div>\n",
              "<style scoped>\n",
              "    .dataframe tbody tr th:only-of-type {\n",
              "        vertical-align: middle;\n",
              "    }\n",
              "\n",
              "    .dataframe tbody tr th {\n",
              "        vertical-align: top;\n",
              "    }\n",
              "\n",
              "    .dataframe thead th {\n",
              "        text-align: right;\n",
              "    }\n",
              "</style>\n",
              "<table border=\"1\" class=\"dataframe\">\n",
              "  <thead>\n",
              "    <tr style=\"text-align: right;\">\n",
              "      <th></th>\n",
              "      <th>Unnamed: 0</th>\n",
              "      <th>filename</th>\n",
              "      <th>Message-ID</th>\n",
              "      <th>content</th>\n",
              "      <th>Class</th>\n",
              "    </tr>\n",
              "  </thead>\n",
              "  <tbody>\n",
              "    <tr>\n",
              "      <th>0</th>\n",
              "      <td>0</td>\n",
              "      <td>arnold-j/_sent_mail/34.</td>\n",
              "      <td>&lt;15267340.1075857594923.JavaMail.evans@thyme&gt;</td>\n",
              "      <td>eat shit\\n\\n\\n\\n\\nJohn J Lavorato@excelr\\n11/1...</td>\n",
              "      <td>Abusive</td>\n",
              "    </tr>\n",
              "    <tr>\n",
              "      <th>1</th>\n",
              "      <td>1</td>\n",
              "      <td>arnold-j/_sent_mail/517.</td>\n",
              "      <td>&lt;15539583.1075857652152.JavaMail.evans@thyme&gt;</td>\n",
              "      <td>fuck you</td>\n",
              "      <td>Abusive</td>\n",
              "    </tr>\n",
              "    <tr>\n",
              "      <th>2</th>\n",
              "      <td>2</td>\n",
              "      <td>arnold-j/_sent_mail/743.</td>\n",
              "      <td>&lt;4339799.1075857657711.JavaMail.evans@thyme&gt;</td>\n",
              "      <td>Gentlemen:\\nThe following champagne is availab...</td>\n",
              "      <td>Abusive</td>\n",
              "    </tr>\n",
              "    <tr>\n",
              "      <th>3</th>\n",
              "      <td>3</td>\n",
              "      <td>arnold-j/_sent_mail/766.</td>\n",
              "      <td>&lt;25574783.1075857658215.JavaMail.evans@thyme&gt;</td>\n",
              "      <td>sorry i've taken so long...just been trying to...</td>\n",
              "      <td>Abusive</td>\n",
              "    </tr>\n",
              "    <tr>\n",
              "      <th>4</th>\n",
              "      <td>4</td>\n",
              "      <td>arnold-j/_sent_mail/797.</td>\n",
              "      <td>&lt;19506151.1075857658895.JavaMail.evans@thyme&gt;</td>\n",
              "      <td>asshole\\n\\n\\n\\n\\nJohn J Lavorato@excelr\\n12/23...</td>\n",
              "      <td>Abusive</td>\n",
              "    </tr>\n",
              "  </tbody>\n",
              "</table>\n",
              "</div>\n",
              "    <div class=\"colab-df-buttons\">\n",
              "\n",
              "  <div class=\"colab-df-container\">\n",
              "    <button class=\"colab-df-convert\" onclick=\"convertToInteractive('df-e9f7204e-aa39-4c91-a5b9-b80cfec64e41')\"\n",
              "            title=\"Convert this dataframe to an interactive table.\"\n",
              "            style=\"display:none;\">\n",
              "\n",
              "  <svg xmlns=\"http://www.w3.org/2000/svg\" height=\"24px\" viewBox=\"0 -960 960 960\">\n",
              "    <path d=\"M120-120v-720h720v720H120Zm60-500h600v-160H180v160Zm220 220h160v-160H400v160Zm0 220h160v-160H400v160ZM180-400h160v-160H180v160Zm440 0h160v-160H620v160ZM180-180h160v-160H180v160Zm440 0h160v-160H620v160Z\"/>\n",
              "  </svg>\n",
              "    </button>\n",
              "\n",
              "  <style>\n",
              "    .colab-df-container {\n",
              "      display:flex;\n",
              "      gap: 12px;\n",
              "    }\n",
              "\n",
              "    .colab-df-convert {\n",
              "      background-color: #E8F0FE;\n",
              "      border: none;\n",
              "      border-radius: 50%;\n",
              "      cursor: pointer;\n",
              "      display: none;\n",
              "      fill: #1967D2;\n",
              "      height: 32px;\n",
              "      padding: 0 0 0 0;\n",
              "      width: 32px;\n",
              "    }\n",
              "\n",
              "    .colab-df-convert:hover {\n",
              "      background-color: #E2EBFA;\n",
              "      box-shadow: 0px 1px 2px rgba(60, 64, 67, 0.3), 0px 1px 3px 1px rgba(60, 64, 67, 0.15);\n",
              "      fill: #174EA6;\n",
              "    }\n",
              "\n",
              "    .colab-df-buttons div {\n",
              "      margin-bottom: 4px;\n",
              "    }\n",
              "\n",
              "    [theme=dark] .colab-df-convert {\n",
              "      background-color: #3B4455;\n",
              "      fill: #D2E3FC;\n",
              "    }\n",
              "\n",
              "    [theme=dark] .colab-df-convert:hover {\n",
              "      background-color: #434B5C;\n",
              "      box-shadow: 0px 1px 3px 1px rgba(0, 0, 0, 0.15);\n",
              "      filter: drop-shadow(0px 1px 2px rgba(0, 0, 0, 0.3));\n",
              "      fill: #FFFFFF;\n",
              "    }\n",
              "  </style>\n",
              "\n",
              "    <script>\n",
              "      const buttonEl =\n",
              "        document.querySelector('#df-e9f7204e-aa39-4c91-a5b9-b80cfec64e41 button.colab-df-convert');\n",
              "      buttonEl.style.display =\n",
              "        google.colab.kernel.accessAllowed ? 'block' : 'none';\n",
              "\n",
              "      async function convertToInteractive(key) {\n",
              "        const element = document.querySelector('#df-e9f7204e-aa39-4c91-a5b9-b80cfec64e41');\n",
              "        const dataTable =\n",
              "          await google.colab.kernel.invokeFunction('convertToInteractive',\n",
              "                                                    [key], {});\n",
              "        if (!dataTable) return;\n",
              "\n",
              "        const docLinkHtml = 'Like what you see? Visit the ' +\n",
              "          '<a target=\"_blank\" href=https://colab.research.google.com/notebooks/data_table.ipynb>data table notebook</a>'\n",
              "          + ' to learn more about interactive tables.';\n",
              "        element.innerHTML = '';\n",
              "        dataTable['output_type'] = 'display_data';\n",
              "        await google.colab.output.renderOutput(dataTable, element);\n",
              "        const docLink = document.createElement('div');\n",
              "        docLink.innerHTML = docLinkHtml;\n",
              "        element.appendChild(docLink);\n",
              "      }\n",
              "    </script>\n",
              "  </div>\n",
              "\n",
              "\n",
              "<div id=\"df-0e0da4b8-3edf-4d81-8a41-714abdb60482\">\n",
              "  <button class=\"colab-df-quickchart\" onclick=\"quickchart('df-0e0da4b8-3edf-4d81-8a41-714abdb60482')\"\n",
              "            title=\"Suggest charts\"\n",
              "            style=\"display:none;\">\n",
              "\n",
              "<svg xmlns=\"http://www.w3.org/2000/svg\" height=\"24px\"viewBox=\"0 0 24 24\"\n",
              "     width=\"24px\">\n",
              "    <g>\n",
              "        <path d=\"M19 3H5c-1.1 0-2 .9-2 2v14c0 1.1.9 2 2 2h14c1.1 0 2-.9 2-2V5c0-1.1-.9-2-2-2zM9 17H7v-7h2v7zm4 0h-2V7h2v10zm4 0h-2v-4h2v4z\"/>\n",
              "    </g>\n",
              "</svg>\n",
              "  </button>\n",
              "\n",
              "<style>\n",
              "  .colab-df-quickchart {\n",
              "      --bg-color: #E8F0FE;\n",
              "      --fill-color: #1967D2;\n",
              "      --hover-bg-color: #E2EBFA;\n",
              "      --hover-fill-color: #174EA6;\n",
              "      --disabled-fill-color: #AAA;\n",
              "      --disabled-bg-color: #DDD;\n",
              "  }\n",
              "\n",
              "  [theme=dark] .colab-df-quickchart {\n",
              "      --bg-color: #3B4455;\n",
              "      --fill-color: #D2E3FC;\n",
              "      --hover-bg-color: #434B5C;\n",
              "      --hover-fill-color: #FFFFFF;\n",
              "      --disabled-bg-color: #3B4455;\n",
              "      --disabled-fill-color: #666;\n",
              "  }\n",
              "\n",
              "  .colab-df-quickchart {\n",
              "    background-color: var(--bg-color);\n",
              "    border: none;\n",
              "    border-radius: 50%;\n",
              "    cursor: pointer;\n",
              "    display: none;\n",
              "    fill: var(--fill-color);\n",
              "    height: 32px;\n",
              "    padding: 0;\n",
              "    width: 32px;\n",
              "  }\n",
              "\n",
              "  .colab-df-quickchart:hover {\n",
              "    background-color: var(--hover-bg-color);\n",
              "    box-shadow: 0 1px 2px rgba(60, 64, 67, 0.3), 0 1px 3px 1px rgba(60, 64, 67, 0.15);\n",
              "    fill: var(--button-hover-fill-color);\n",
              "  }\n",
              "\n",
              "  .colab-df-quickchart-complete:disabled,\n",
              "  .colab-df-quickchart-complete:disabled:hover {\n",
              "    background-color: var(--disabled-bg-color);\n",
              "    fill: var(--disabled-fill-color);\n",
              "    box-shadow: none;\n",
              "  }\n",
              "\n",
              "  .colab-df-spinner {\n",
              "    border: 2px solid var(--fill-color);\n",
              "    border-color: transparent;\n",
              "    border-bottom-color: var(--fill-color);\n",
              "    animation:\n",
              "      spin 1s steps(1) infinite;\n",
              "  }\n",
              "\n",
              "  @keyframes spin {\n",
              "    0% {\n",
              "      border-color: transparent;\n",
              "      border-bottom-color: var(--fill-color);\n",
              "      border-left-color: var(--fill-color);\n",
              "    }\n",
              "    20% {\n",
              "      border-color: transparent;\n",
              "      border-left-color: var(--fill-color);\n",
              "      border-top-color: var(--fill-color);\n",
              "    }\n",
              "    30% {\n",
              "      border-color: transparent;\n",
              "      border-left-color: var(--fill-color);\n",
              "      border-top-color: var(--fill-color);\n",
              "      border-right-color: var(--fill-color);\n",
              "    }\n",
              "    40% {\n",
              "      border-color: transparent;\n",
              "      border-right-color: var(--fill-color);\n",
              "      border-top-color: var(--fill-color);\n",
              "    }\n",
              "    60% {\n",
              "      border-color: transparent;\n",
              "      border-right-color: var(--fill-color);\n",
              "    }\n",
              "    80% {\n",
              "      border-color: transparent;\n",
              "      border-right-color: var(--fill-color);\n",
              "      border-bottom-color: var(--fill-color);\n",
              "    }\n",
              "    90% {\n",
              "      border-color: transparent;\n",
              "      border-bottom-color: var(--fill-color);\n",
              "    }\n",
              "  }\n",
              "</style>\n",
              "\n",
              "  <script>\n",
              "    async function quickchart(key) {\n",
              "      const quickchartButtonEl =\n",
              "        document.querySelector('#' + key + ' button');\n",
              "      quickchartButtonEl.disabled = true;  // To prevent multiple clicks.\n",
              "      quickchartButtonEl.classList.add('colab-df-spinner');\n",
              "      try {\n",
              "        const charts = await google.colab.kernel.invokeFunction(\n",
              "            'suggestCharts', [key], {});\n",
              "      } catch (error) {\n",
              "        console.error('Error during call to suggestCharts:', error);\n",
              "      }\n",
              "      quickchartButtonEl.classList.remove('colab-df-spinner');\n",
              "      quickchartButtonEl.classList.add('colab-df-quickchart-complete');\n",
              "    }\n",
              "    (() => {\n",
              "      let quickchartButtonEl =\n",
              "        document.querySelector('#df-0e0da4b8-3edf-4d81-8a41-714abdb60482 button');\n",
              "      quickchartButtonEl.style.display =\n",
              "        google.colab.kernel.accessAllowed ? 'block' : 'none';\n",
              "    })();\n",
              "  </script>\n",
              "</div>\n",
              "\n",
              "    </div>\n",
              "  </div>\n"
            ],
            "application/vnd.google.colaboratory.intrinsic+json": {
              "type": "dataframe",
              "variable_name": "df",
              "summary": "{\n  \"name\": \"df\",\n  \"rows\": 48076,\n  \"fields\": [\n    {\n      \"column\": \"Unnamed: 0\",\n      \"properties\": {\n        \"dtype\": \"number\",\n        \"std\": 13878,\n        \"min\": 0,\n        \"max\": 48075,\n        \"num_unique_values\": 48076,\n        \"samples\": [\n          465,\n          22169,\n          20879\n        ],\n        \"semantic_type\": \"\",\n        \"description\": \"\"\n      }\n    },\n    {\n      \"column\": \"filename\",\n      \"properties\": {\n        \"dtype\": \"string\",\n        \"num_unique_values\": 48076,\n        \"samples\": [\n          \"dasovich-j/sent/1358.\",\n          \"baughman-d/discussion_threads/64.\",\n          \"bass-e/sent/909.\"\n        ],\n        \"semantic_type\": \"\",\n        \"description\": \"\"\n      }\n    },\n    {\n      \"column\": \"Message-ID\",\n      \"properties\": {\n        \"dtype\": \"string\",\n        \"num_unique_values\": 48076,\n        \"samples\": [\n          \"<6040499.1075843217211.JavaMail.evans@thyme>\",\n          \"<15504999.1075848322807.JavaMail.evans@thyme>\",\n          \"<33022878.1075854706185.JavaMail.evans@thyme>\"\n        ],\n        \"semantic_type\": \"\",\n        \"description\": \"\"\n      }\n    },\n    {\n      \"column\": \"content\",\n      \"properties\": {\n        \"dtype\": \"string\",\n        \"num_unique_values\": 24656,\n        \"samples\": [\n          \"Hi Sandra,\\n\\nI hope you had a nice Christmas and a fun holiday season.  We as you can\\nimagine with three  5 year old boys, it was hectic but, the look on their\\nfaces Christmas morning was priceless.\\n\\nI wanted to let you know that I am leaving Prebon as of January 15th. I have\\nspent the last eight years of my 16 years in the Energy field with Prebon\\nand we part on the best of terms.  I am talking with a few banks, a\\nconsulting firm and some energy companies, but also plan on spending some\\ntime at the house with the family.  I will let you know when and where I\\ndecide to go.  Hopefully we can work together again in the future.\\n\\nBest wishes for continued success in 2002 and the years to come.  Please\\ngive my best to Kenny.\\n\\nSincerely,\\n\\nBill\\n\\nH 908-598-9421\\nC 908-403-7021\\nF 908-598-1413\\n\\nBill-karenyoung@comcast.net <mailto:Bill-karenyoung@comcast.net>\\n\\nYoung_3600@msn.com <mailto:Young_3600@msn.com>    ( underscore between young\\nand 3600)   \",\n          \"You may have seen recent media reports on the topics of possible EPA action=\\n on New Source Review (NSR) regulation and multipollutant legislation, so I=\\n wanted to summarize some of the important current developments:\\n\\nNew Source Review:\\n\\nEPA was asked to conduct a 90-day review of NSR and come up with recommenda=\\ntions for the larger Bush National Energy Plan.   EPA held several public h=\\nearings and solicited public comments, which closed July 27.   excelr submit=\\nted comments (which I sent by e-mail on 7/30/01).   EPA has indicated that =\\nit will report to the President only on \\\"impacts of NSR on the power sector=\\n\\\" on August 17 and delay any specific recommendations for NSR reform until =\\nmid-September.\\n\\nStories in the past few days have suggested that EPA's findings will \\\"ease =\\nemissions standards\\\" on coal utilities. Such characterizations are somewhat=\\n slanted, as they are based on information coming from environmental groups=\\n who oppose any NSR reform -- but there is some substantive merit behind th=\\nese reports as well.\\n\\nNSR enforcement over plant modifications has been an extremely contentious =\\nissue for electric utilities, and many industry sources have been lobbying =\\nhard to relax EPA enforcement policy.  From an administrative perspective, =\\nthis is a relatively easy reform for  EPA to tackle -- it would only requir=\\ne a change in \\\"guidance\\\" and not a lengthy regulatory process or legislatio=\\nn.   As you can see from the attached stories, environmental groups are ext=\\nremely opposed to this type of action, and are using the media very effecti=\\nvely to put pressure on EPA against such loosening of NSR enforcement stand=\\nards.\\nEPA will likely recommend a number of broader administrative and legislativ=\\ne changes to NSR, most requiring a longer trip through the legislative or r=\\negulatory process.   Such changes could include reforms to BACT/LAER analys=\\nis for new or existing sources, relief for cleaner sources, or standardizat=\\nion of some of the more arbitrary provisions of NSR.   Given the longer-ter=\\nm effort required, these proposed reforms may be newsworthy, but less likel=\\ny to have an impact on the power sector in the short-term.\\n\\nSome of the recent complicating issues have been calls from other industry =\\nsectors (manufacturers,  refining, industrial boilers, gas pipelines) for N=\\nSR relief.  EPA would prefer to address power sector issues only, but may b=\\ne politically forced to make recommendations in other sectors as well.  It =\\nis not yet clear what sectors or what issues they will address.\\n\\nPossible Outcomes/Impacts:  Large coal utilities have spent a great deal of=\\n resources putting pressure on the Administration on the modification & enf=\\norcement issues.  The issue is the easiest short-term solution to offer fro=\\nm a regulatory standpoint, so despite environmental group opposition, it is=\\n likely that EPA will recommend immediate action in this area, along with l=\\nonger-term reforms.  For excelr businesses this means that coal, emissions a=\\nnd power trading should expect renewed strength in the coal generation sect=\\nor, as older assets would face less barriers to extending their life.  Orig=\\nination opportunities (plant upgrades, capacity increases) may increase as =\\ncustomers fears about enforcement actions subside.  Industrial and gas pipe=\\nline sectors may see relief in the modification area as well, if EPA decide=\\ns to tackle sectors outside just power.  Particularly on gas pipeline issue=\\ns, turbine maintenance issues may be clear-cut enough for EPA to make a sim=\\nple , short term recommendation.\\n\\nMultipollutant Legislation\\n\\nAlso making news lately were statements by EPA Administrator Christine Whit=\\nman, indicating that EPA plans to release a proposal to scrap existing emis=\\nsions regulations (NOx SIP Call/126 Rule, Regional Haze, SO2/Acid Rain) for=\\n a more streamlined \\\"multipollutant\\\" plan.  Multipollutant strategies have =\\nbeen discussed for some time, but are becoming more newsworthy lately becau=\\nse they were included as possible options under the Bush Energy Plan, and o=\\nffer potential solutions to NSR reform problems.\\n\\nEPA's proposed elimination of existing air programs is not as drastic as it=\\n sounds -- in fact, it offers the opportunity to replace confusing, overlap=\\nping programs on multiple pollutants that are currently regulated or will s=\\noon be regulated by EPA with a more certain and flexible system.  Prospects=\\n for development of a multipollutant trading plan that reforms NSR are much=\\n less predictable, however, and will require a longer-term legislative effo=\\nrt.  =20\\n\\nIn September 2001, we expect to see release of EPA's plan, as well as congr=\\nessional consideration of several pieces of multipollutant legislation.  We=\\n are working closely with EPA, the White House, and Congress on these issue=\\ns and will continue to keep commercial and corporate groups informed on the=\\n progress of multipollutant strategies.   Unless political dynamics change =\\ndrastically, we would not expect final action on multipollutant legislation=\\n this year.  As the issue evolves, we will be in touch with more specifics =\\non the legislation and excelr's strategy.\\n\\nIf you have questions or would like more information, please contact me.\\n\\n  =20\\n\\nJeffrey Keeler\\nDirector, Environmental Strategies\\nexcelr\\nWashington DC office - (202) 466-9157\\nCell Phone (203) 464-1541\\n\\n\\n\\n\\n\\n\\n\",\n          \"here is the house that I was talking about\\n\\nhttp://www.har.com/search/condo/indexdetail.cfm?mlnum=533930\"\n        ],\n        \"semantic_type\": \"\",\n        \"description\": \"\"\n      }\n    },\n    {\n      \"column\": \"Class\",\n      \"properties\": {\n        \"dtype\": \"category\",\n        \"num_unique_values\": 2,\n        \"samples\": [\n          \"Non Abusive\",\n          \"Abusive\"\n        ],\n        \"semantic_type\": \"\",\n        \"description\": \"\"\n      }\n    }\n  ]\n}"
            }
          },
          "metadata": {},
          "execution_count": 3
        }
      ]
    },
    {
      "cell_type": "code",
      "source": [
        "df.describe()"
      ],
      "metadata": {
        "colab": {
          "base_uri": "https://localhost:8080/",
          "height": 300
        },
        "id": "t0eWWyO6tRcV",
        "outputId": "c61d7a54-1ac8-4e37-eef0-0e2d4af32785"
      },
      "execution_count": null,
      "outputs": [
        {
          "output_type": "execute_result",
          "data": {
            "text/plain": [
              "         Unnamed: 0\n",
              "count  48076.000000\n",
              "mean   24037.500000\n",
              "std    13878.490108\n",
              "min        0.000000\n",
              "25%    12018.750000\n",
              "50%    24037.500000\n",
              "75%    36056.250000\n",
              "max    48075.000000"
            ],
            "text/html": [
              "\n",
              "  <div id=\"df-5d70ae5e-4034-40c0-94d3-245b1f541549\" class=\"colab-df-container\">\n",
              "    <div>\n",
              "<style scoped>\n",
              "    .dataframe tbody tr th:only-of-type {\n",
              "        vertical-align: middle;\n",
              "    }\n",
              "\n",
              "    .dataframe tbody tr th {\n",
              "        vertical-align: top;\n",
              "    }\n",
              "\n",
              "    .dataframe thead th {\n",
              "        text-align: right;\n",
              "    }\n",
              "</style>\n",
              "<table border=\"1\" class=\"dataframe\">\n",
              "  <thead>\n",
              "    <tr style=\"text-align: right;\">\n",
              "      <th></th>\n",
              "      <th>Unnamed: 0</th>\n",
              "    </tr>\n",
              "  </thead>\n",
              "  <tbody>\n",
              "    <tr>\n",
              "      <th>count</th>\n",
              "      <td>48076.000000</td>\n",
              "    </tr>\n",
              "    <tr>\n",
              "      <th>mean</th>\n",
              "      <td>24037.500000</td>\n",
              "    </tr>\n",
              "    <tr>\n",
              "      <th>std</th>\n",
              "      <td>13878.490108</td>\n",
              "    </tr>\n",
              "    <tr>\n",
              "      <th>min</th>\n",
              "      <td>0.000000</td>\n",
              "    </tr>\n",
              "    <tr>\n",
              "      <th>25%</th>\n",
              "      <td>12018.750000</td>\n",
              "    </tr>\n",
              "    <tr>\n",
              "      <th>50%</th>\n",
              "      <td>24037.500000</td>\n",
              "    </tr>\n",
              "    <tr>\n",
              "      <th>75%</th>\n",
              "      <td>36056.250000</td>\n",
              "    </tr>\n",
              "    <tr>\n",
              "      <th>max</th>\n",
              "      <td>48075.000000</td>\n",
              "    </tr>\n",
              "  </tbody>\n",
              "</table>\n",
              "</div>\n",
              "    <div class=\"colab-df-buttons\">\n",
              "\n",
              "  <div class=\"colab-df-container\">\n",
              "    <button class=\"colab-df-convert\" onclick=\"convertToInteractive('df-5d70ae5e-4034-40c0-94d3-245b1f541549')\"\n",
              "            title=\"Convert this dataframe to an interactive table.\"\n",
              "            style=\"display:none;\">\n",
              "\n",
              "  <svg xmlns=\"http://www.w3.org/2000/svg\" height=\"24px\" viewBox=\"0 -960 960 960\">\n",
              "    <path d=\"M120-120v-720h720v720H120Zm60-500h600v-160H180v160Zm220 220h160v-160H400v160Zm0 220h160v-160H400v160ZM180-400h160v-160H180v160Zm440 0h160v-160H620v160ZM180-180h160v-160H180v160Zm440 0h160v-160H620v160Z\"/>\n",
              "  </svg>\n",
              "    </button>\n",
              "\n",
              "  <style>\n",
              "    .colab-df-container {\n",
              "      display:flex;\n",
              "      gap: 12px;\n",
              "    }\n",
              "\n",
              "    .colab-df-convert {\n",
              "      background-color: #E8F0FE;\n",
              "      border: none;\n",
              "      border-radius: 50%;\n",
              "      cursor: pointer;\n",
              "      display: none;\n",
              "      fill: #1967D2;\n",
              "      height: 32px;\n",
              "      padding: 0 0 0 0;\n",
              "      width: 32px;\n",
              "    }\n",
              "\n",
              "    .colab-df-convert:hover {\n",
              "      background-color: #E2EBFA;\n",
              "      box-shadow: 0px 1px 2px rgba(60, 64, 67, 0.3), 0px 1px 3px 1px rgba(60, 64, 67, 0.15);\n",
              "      fill: #174EA6;\n",
              "    }\n",
              "\n",
              "    .colab-df-buttons div {\n",
              "      margin-bottom: 4px;\n",
              "    }\n",
              "\n",
              "    [theme=dark] .colab-df-convert {\n",
              "      background-color: #3B4455;\n",
              "      fill: #D2E3FC;\n",
              "    }\n",
              "\n",
              "    [theme=dark] .colab-df-convert:hover {\n",
              "      background-color: #434B5C;\n",
              "      box-shadow: 0px 1px 3px 1px rgba(0, 0, 0, 0.15);\n",
              "      filter: drop-shadow(0px 1px 2px rgba(0, 0, 0, 0.3));\n",
              "      fill: #FFFFFF;\n",
              "    }\n",
              "  </style>\n",
              "\n",
              "    <script>\n",
              "      const buttonEl =\n",
              "        document.querySelector('#df-5d70ae5e-4034-40c0-94d3-245b1f541549 button.colab-df-convert');\n",
              "      buttonEl.style.display =\n",
              "        google.colab.kernel.accessAllowed ? 'block' : 'none';\n",
              "\n",
              "      async function convertToInteractive(key) {\n",
              "        const element = document.querySelector('#df-5d70ae5e-4034-40c0-94d3-245b1f541549');\n",
              "        const dataTable =\n",
              "          await google.colab.kernel.invokeFunction('convertToInteractive',\n",
              "                                                    [key], {});\n",
              "        if (!dataTable) return;\n",
              "\n",
              "        const docLinkHtml = 'Like what you see? Visit the ' +\n",
              "          '<a target=\"_blank\" href=https://colab.research.google.com/notebooks/data_table.ipynb>data table notebook</a>'\n",
              "          + ' to learn more about interactive tables.';\n",
              "        element.innerHTML = '';\n",
              "        dataTable['output_type'] = 'display_data';\n",
              "        await google.colab.output.renderOutput(dataTable, element);\n",
              "        const docLink = document.createElement('div');\n",
              "        docLink.innerHTML = docLinkHtml;\n",
              "        element.appendChild(docLink);\n",
              "      }\n",
              "    </script>\n",
              "  </div>\n",
              "\n",
              "\n",
              "<div id=\"df-bd0ce2b7-99f3-4e62-a77d-42cdda584dcf\">\n",
              "  <button class=\"colab-df-quickchart\" onclick=\"quickchart('df-bd0ce2b7-99f3-4e62-a77d-42cdda584dcf')\"\n",
              "            title=\"Suggest charts\"\n",
              "            style=\"display:none;\">\n",
              "\n",
              "<svg xmlns=\"http://www.w3.org/2000/svg\" height=\"24px\"viewBox=\"0 0 24 24\"\n",
              "     width=\"24px\">\n",
              "    <g>\n",
              "        <path d=\"M19 3H5c-1.1 0-2 .9-2 2v14c0 1.1.9 2 2 2h14c1.1 0 2-.9 2-2V5c0-1.1-.9-2-2-2zM9 17H7v-7h2v7zm4 0h-2V7h2v10zm4 0h-2v-4h2v4z\"/>\n",
              "    </g>\n",
              "</svg>\n",
              "  </button>\n",
              "\n",
              "<style>\n",
              "  .colab-df-quickchart {\n",
              "      --bg-color: #E8F0FE;\n",
              "      --fill-color: #1967D2;\n",
              "      --hover-bg-color: #E2EBFA;\n",
              "      --hover-fill-color: #174EA6;\n",
              "      --disabled-fill-color: #AAA;\n",
              "      --disabled-bg-color: #DDD;\n",
              "  }\n",
              "\n",
              "  [theme=dark] .colab-df-quickchart {\n",
              "      --bg-color: #3B4455;\n",
              "      --fill-color: #D2E3FC;\n",
              "      --hover-bg-color: #434B5C;\n",
              "      --hover-fill-color: #FFFFFF;\n",
              "      --disabled-bg-color: #3B4455;\n",
              "      --disabled-fill-color: #666;\n",
              "  }\n",
              "\n",
              "  .colab-df-quickchart {\n",
              "    background-color: var(--bg-color);\n",
              "    border: none;\n",
              "    border-radius: 50%;\n",
              "    cursor: pointer;\n",
              "    display: none;\n",
              "    fill: var(--fill-color);\n",
              "    height: 32px;\n",
              "    padding: 0;\n",
              "    width: 32px;\n",
              "  }\n",
              "\n",
              "  .colab-df-quickchart:hover {\n",
              "    background-color: var(--hover-bg-color);\n",
              "    box-shadow: 0 1px 2px rgba(60, 64, 67, 0.3), 0 1px 3px 1px rgba(60, 64, 67, 0.15);\n",
              "    fill: var(--button-hover-fill-color);\n",
              "  }\n",
              "\n",
              "  .colab-df-quickchart-complete:disabled,\n",
              "  .colab-df-quickchart-complete:disabled:hover {\n",
              "    background-color: var(--disabled-bg-color);\n",
              "    fill: var(--disabled-fill-color);\n",
              "    box-shadow: none;\n",
              "  }\n",
              "\n",
              "  .colab-df-spinner {\n",
              "    border: 2px solid var(--fill-color);\n",
              "    border-color: transparent;\n",
              "    border-bottom-color: var(--fill-color);\n",
              "    animation:\n",
              "      spin 1s steps(1) infinite;\n",
              "  }\n",
              "\n",
              "  @keyframes spin {\n",
              "    0% {\n",
              "      border-color: transparent;\n",
              "      border-bottom-color: var(--fill-color);\n",
              "      border-left-color: var(--fill-color);\n",
              "    }\n",
              "    20% {\n",
              "      border-color: transparent;\n",
              "      border-left-color: var(--fill-color);\n",
              "      border-top-color: var(--fill-color);\n",
              "    }\n",
              "    30% {\n",
              "      border-color: transparent;\n",
              "      border-left-color: var(--fill-color);\n",
              "      border-top-color: var(--fill-color);\n",
              "      border-right-color: var(--fill-color);\n",
              "    }\n",
              "    40% {\n",
              "      border-color: transparent;\n",
              "      border-right-color: var(--fill-color);\n",
              "      border-top-color: var(--fill-color);\n",
              "    }\n",
              "    60% {\n",
              "      border-color: transparent;\n",
              "      border-right-color: var(--fill-color);\n",
              "    }\n",
              "    80% {\n",
              "      border-color: transparent;\n",
              "      border-right-color: var(--fill-color);\n",
              "      border-bottom-color: var(--fill-color);\n",
              "    }\n",
              "    90% {\n",
              "      border-color: transparent;\n",
              "      border-bottom-color: var(--fill-color);\n",
              "    }\n",
              "  }\n",
              "</style>\n",
              "\n",
              "  <script>\n",
              "    async function quickchart(key) {\n",
              "      const quickchartButtonEl =\n",
              "        document.querySelector('#' + key + ' button');\n",
              "      quickchartButtonEl.disabled = true;  // To prevent multiple clicks.\n",
              "      quickchartButtonEl.classList.add('colab-df-spinner');\n",
              "      try {\n",
              "        const charts = await google.colab.kernel.invokeFunction(\n",
              "            'suggestCharts', [key], {});\n",
              "      } catch (error) {\n",
              "        console.error('Error during call to suggestCharts:', error);\n",
              "      }\n",
              "      quickchartButtonEl.classList.remove('colab-df-spinner');\n",
              "      quickchartButtonEl.classList.add('colab-df-quickchart-complete');\n",
              "    }\n",
              "    (() => {\n",
              "      let quickchartButtonEl =\n",
              "        document.querySelector('#df-bd0ce2b7-99f3-4e62-a77d-42cdda584dcf button');\n",
              "      quickchartButtonEl.style.display =\n",
              "        google.colab.kernel.accessAllowed ? 'block' : 'none';\n",
              "    })();\n",
              "  </script>\n",
              "</div>\n",
              "\n",
              "    </div>\n",
              "  </div>\n"
            ],
            "application/vnd.google.colaboratory.intrinsic+json": {
              "type": "dataframe",
              "summary": "{\n  \"name\": \"df\",\n  \"rows\": 8,\n  \"fields\": [\n    {\n      \"column\": \"Unnamed: 0\",\n      \"properties\": {\n        \"dtype\": \"number\",\n        \"std\": 17326.60402454265,\n        \"min\": 0.0,\n        \"max\": 48076.0,\n        \"num_unique_values\": 7,\n        \"samples\": [\n          48076.0,\n          24037.5,\n          36056.25\n        ],\n        \"semantic_type\": \"\",\n        \"description\": \"\"\n      }\n    }\n  ]\n}"
            }
          },
          "metadata": {},
          "execution_count": 4
        }
      ]
    },
    {
      "cell_type": "code",
      "source": [
        "df.info()"
      ],
      "metadata": {
        "colab": {
          "base_uri": "https://localhost:8080/"
        },
        "id": "d3kGwWLEv4lh",
        "outputId": "5df7ad1e-d883-457e-8091-2f4fd3ea5105"
      },
      "execution_count": null,
      "outputs": [
        {
          "output_type": "stream",
          "name": "stdout",
          "text": [
            "<class 'pandas.core.frame.DataFrame'>\n",
            "RangeIndex: 48076 entries, 0 to 48075\n",
            "Data columns (total 5 columns):\n",
            " #   Column      Non-Null Count  Dtype \n",
            "---  ------      --------------  ----- \n",
            " 0   Unnamed: 0  48076 non-null  int64 \n",
            " 1   filename    48076 non-null  object\n",
            " 2   Message-ID  48076 non-null  object\n",
            " 3   content     48076 non-null  object\n",
            " 4   Class       48076 non-null  object\n",
            "dtypes: int64(1), object(4)\n",
            "memory usage: 1.8+ MB\n"
          ]
        }
      ]
    },
    {
      "cell_type": "code",
      "source": [
        "df.isnull().sum()"
      ],
      "metadata": {
        "colab": {
          "base_uri": "https://localhost:8080/",
          "height": 241
        },
        "id": "zD2gJXdQv7e9",
        "outputId": "fad6c185-2997-45bb-991e-922fdc9b7aef"
      },
      "execution_count": null,
      "outputs": [
        {
          "output_type": "execute_result",
          "data": {
            "text/plain": [
              "Unnamed: 0    0\n",
              "filename      0\n",
              "Message-ID    0\n",
              "content       0\n",
              "Class         0\n",
              "dtype: int64"
            ],
            "text/html": [
              "<div>\n",
              "<style scoped>\n",
              "    .dataframe tbody tr th:only-of-type {\n",
              "        vertical-align: middle;\n",
              "    }\n",
              "\n",
              "    .dataframe tbody tr th {\n",
              "        vertical-align: top;\n",
              "    }\n",
              "\n",
              "    .dataframe thead th {\n",
              "        text-align: right;\n",
              "    }\n",
              "</style>\n",
              "<table border=\"1\" class=\"dataframe\">\n",
              "  <thead>\n",
              "    <tr style=\"text-align: right;\">\n",
              "      <th></th>\n",
              "      <th>0</th>\n",
              "    </tr>\n",
              "  </thead>\n",
              "  <tbody>\n",
              "    <tr>\n",
              "      <th>Unnamed: 0</th>\n",
              "      <td>0</td>\n",
              "    </tr>\n",
              "    <tr>\n",
              "      <th>filename</th>\n",
              "      <td>0</td>\n",
              "    </tr>\n",
              "    <tr>\n",
              "      <th>Message-ID</th>\n",
              "      <td>0</td>\n",
              "    </tr>\n",
              "    <tr>\n",
              "      <th>content</th>\n",
              "      <td>0</td>\n",
              "    </tr>\n",
              "    <tr>\n",
              "      <th>Class</th>\n",
              "      <td>0</td>\n",
              "    </tr>\n",
              "  </tbody>\n",
              "</table>\n",
              "</div><br><label><b>dtype:</b> int64</label>"
            ]
          },
          "metadata": {},
          "execution_count": 6
        }
      ]
    },
    {
      "cell_type": "code",
      "source": [
        "df = df.drop(('Unnamed: 0'), axis = 1)"
      ],
      "metadata": {
        "id": "JQAKVYWHv-Le"
      },
      "execution_count": null,
      "outputs": []
    },
    {
      "cell_type": "code",
      "source": [
        "df.head()"
      ],
      "metadata": {
        "colab": {
          "base_uri": "https://localhost:8080/",
          "height": 206
        },
        "id": "kyYyethlwH9B",
        "outputId": "ef9ccf6c-1d68-4bc1-cc19-6e001eaae414"
      },
      "execution_count": null,
      "outputs": [
        {
          "output_type": "execute_result",
          "data": {
            "text/plain": [
              "                   filename                                     Message-ID  \\\n",
              "0   arnold-j/_sent_mail/34.  <15267340.1075857594923.JavaMail.evans@thyme>   \n",
              "1  arnold-j/_sent_mail/517.  <15539583.1075857652152.JavaMail.evans@thyme>   \n",
              "2  arnold-j/_sent_mail/743.   <4339799.1075857657711.JavaMail.evans@thyme>   \n",
              "3  arnold-j/_sent_mail/766.  <25574783.1075857658215.JavaMail.evans@thyme>   \n",
              "4  arnold-j/_sent_mail/797.  <19506151.1075857658895.JavaMail.evans@thyme>   \n",
              "\n",
              "                                             content    Class  \n",
              "0  eat shit\\n\\n\\n\\n\\nJohn J Lavorato@excelr\\n11/1...  Abusive  \n",
              "1                                           fuck you  Abusive  \n",
              "2  Gentlemen:\\nThe following champagne is availab...  Abusive  \n",
              "3  sorry i've taken so long...just been trying to...  Abusive  \n",
              "4  asshole\\n\\n\\n\\n\\nJohn J Lavorato@excelr\\n12/23...  Abusive  "
            ],
            "text/html": [
              "\n",
              "  <div id=\"df-44dbe1e2-b8c4-4dc8-85b5-6017bdd38905\" class=\"colab-df-container\">\n",
              "    <div>\n",
              "<style scoped>\n",
              "    .dataframe tbody tr th:only-of-type {\n",
              "        vertical-align: middle;\n",
              "    }\n",
              "\n",
              "    .dataframe tbody tr th {\n",
              "        vertical-align: top;\n",
              "    }\n",
              "\n",
              "    .dataframe thead th {\n",
              "        text-align: right;\n",
              "    }\n",
              "</style>\n",
              "<table border=\"1\" class=\"dataframe\">\n",
              "  <thead>\n",
              "    <tr style=\"text-align: right;\">\n",
              "      <th></th>\n",
              "      <th>filename</th>\n",
              "      <th>Message-ID</th>\n",
              "      <th>content</th>\n",
              "      <th>Class</th>\n",
              "    </tr>\n",
              "  </thead>\n",
              "  <tbody>\n",
              "    <tr>\n",
              "      <th>0</th>\n",
              "      <td>arnold-j/_sent_mail/34.</td>\n",
              "      <td>&lt;15267340.1075857594923.JavaMail.evans@thyme&gt;</td>\n",
              "      <td>eat shit\\n\\n\\n\\n\\nJohn J Lavorato@excelr\\n11/1...</td>\n",
              "      <td>Abusive</td>\n",
              "    </tr>\n",
              "    <tr>\n",
              "      <th>1</th>\n",
              "      <td>arnold-j/_sent_mail/517.</td>\n",
              "      <td>&lt;15539583.1075857652152.JavaMail.evans@thyme&gt;</td>\n",
              "      <td>fuck you</td>\n",
              "      <td>Abusive</td>\n",
              "    </tr>\n",
              "    <tr>\n",
              "      <th>2</th>\n",
              "      <td>arnold-j/_sent_mail/743.</td>\n",
              "      <td>&lt;4339799.1075857657711.JavaMail.evans@thyme&gt;</td>\n",
              "      <td>Gentlemen:\\nThe following champagne is availab...</td>\n",
              "      <td>Abusive</td>\n",
              "    </tr>\n",
              "    <tr>\n",
              "      <th>3</th>\n",
              "      <td>arnold-j/_sent_mail/766.</td>\n",
              "      <td>&lt;25574783.1075857658215.JavaMail.evans@thyme&gt;</td>\n",
              "      <td>sorry i've taken so long...just been trying to...</td>\n",
              "      <td>Abusive</td>\n",
              "    </tr>\n",
              "    <tr>\n",
              "      <th>4</th>\n",
              "      <td>arnold-j/_sent_mail/797.</td>\n",
              "      <td>&lt;19506151.1075857658895.JavaMail.evans@thyme&gt;</td>\n",
              "      <td>asshole\\n\\n\\n\\n\\nJohn J Lavorato@excelr\\n12/23...</td>\n",
              "      <td>Abusive</td>\n",
              "    </tr>\n",
              "  </tbody>\n",
              "</table>\n",
              "</div>\n",
              "    <div class=\"colab-df-buttons\">\n",
              "\n",
              "  <div class=\"colab-df-container\">\n",
              "    <button class=\"colab-df-convert\" onclick=\"convertToInteractive('df-44dbe1e2-b8c4-4dc8-85b5-6017bdd38905')\"\n",
              "            title=\"Convert this dataframe to an interactive table.\"\n",
              "            style=\"display:none;\">\n",
              "\n",
              "  <svg xmlns=\"http://www.w3.org/2000/svg\" height=\"24px\" viewBox=\"0 -960 960 960\">\n",
              "    <path d=\"M120-120v-720h720v720H120Zm60-500h600v-160H180v160Zm220 220h160v-160H400v160Zm0 220h160v-160H400v160ZM180-400h160v-160H180v160Zm440 0h160v-160H620v160ZM180-180h160v-160H180v160Zm440 0h160v-160H620v160Z\"/>\n",
              "  </svg>\n",
              "    </button>\n",
              "\n",
              "  <style>\n",
              "    .colab-df-container {\n",
              "      display:flex;\n",
              "      gap: 12px;\n",
              "    }\n",
              "\n",
              "    .colab-df-convert {\n",
              "      background-color: #E8F0FE;\n",
              "      border: none;\n",
              "      border-radius: 50%;\n",
              "      cursor: pointer;\n",
              "      display: none;\n",
              "      fill: #1967D2;\n",
              "      height: 32px;\n",
              "      padding: 0 0 0 0;\n",
              "      width: 32px;\n",
              "    }\n",
              "\n",
              "    .colab-df-convert:hover {\n",
              "      background-color: #E2EBFA;\n",
              "      box-shadow: 0px 1px 2px rgba(60, 64, 67, 0.3), 0px 1px 3px 1px rgba(60, 64, 67, 0.15);\n",
              "      fill: #174EA6;\n",
              "    }\n",
              "\n",
              "    .colab-df-buttons div {\n",
              "      margin-bottom: 4px;\n",
              "    }\n",
              "\n",
              "    [theme=dark] .colab-df-convert {\n",
              "      background-color: #3B4455;\n",
              "      fill: #D2E3FC;\n",
              "    }\n",
              "\n",
              "    [theme=dark] .colab-df-convert:hover {\n",
              "      background-color: #434B5C;\n",
              "      box-shadow: 0px 1px 3px 1px rgba(0, 0, 0, 0.15);\n",
              "      filter: drop-shadow(0px 1px 2px rgba(0, 0, 0, 0.3));\n",
              "      fill: #FFFFFF;\n",
              "    }\n",
              "  </style>\n",
              "\n",
              "    <script>\n",
              "      const buttonEl =\n",
              "        document.querySelector('#df-44dbe1e2-b8c4-4dc8-85b5-6017bdd38905 button.colab-df-convert');\n",
              "      buttonEl.style.display =\n",
              "        google.colab.kernel.accessAllowed ? 'block' : 'none';\n",
              "\n",
              "      async function convertToInteractive(key) {\n",
              "        const element = document.querySelector('#df-44dbe1e2-b8c4-4dc8-85b5-6017bdd38905');\n",
              "        const dataTable =\n",
              "          await google.colab.kernel.invokeFunction('convertToInteractive',\n",
              "                                                    [key], {});\n",
              "        if (!dataTable) return;\n",
              "\n",
              "        const docLinkHtml = 'Like what you see? Visit the ' +\n",
              "          '<a target=\"_blank\" href=https://colab.research.google.com/notebooks/data_table.ipynb>data table notebook</a>'\n",
              "          + ' to learn more about interactive tables.';\n",
              "        element.innerHTML = '';\n",
              "        dataTable['output_type'] = 'display_data';\n",
              "        await google.colab.output.renderOutput(dataTable, element);\n",
              "        const docLink = document.createElement('div');\n",
              "        docLink.innerHTML = docLinkHtml;\n",
              "        element.appendChild(docLink);\n",
              "      }\n",
              "    </script>\n",
              "  </div>\n",
              "\n",
              "\n",
              "<div id=\"df-9e0781e2-c5cb-472c-9d96-75e170f5f286\">\n",
              "  <button class=\"colab-df-quickchart\" onclick=\"quickchart('df-9e0781e2-c5cb-472c-9d96-75e170f5f286')\"\n",
              "            title=\"Suggest charts\"\n",
              "            style=\"display:none;\">\n",
              "\n",
              "<svg xmlns=\"http://www.w3.org/2000/svg\" height=\"24px\"viewBox=\"0 0 24 24\"\n",
              "     width=\"24px\">\n",
              "    <g>\n",
              "        <path d=\"M19 3H5c-1.1 0-2 .9-2 2v14c0 1.1.9 2 2 2h14c1.1 0 2-.9 2-2V5c0-1.1-.9-2-2-2zM9 17H7v-7h2v7zm4 0h-2V7h2v10zm4 0h-2v-4h2v4z\"/>\n",
              "    </g>\n",
              "</svg>\n",
              "  </button>\n",
              "\n",
              "<style>\n",
              "  .colab-df-quickchart {\n",
              "      --bg-color: #E8F0FE;\n",
              "      --fill-color: #1967D2;\n",
              "      --hover-bg-color: #E2EBFA;\n",
              "      --hover-fill-color: #174EA6;\n",
              "      --disabled-fill-color: #AAA;\n",
              "      --disabled-bg-color: #DDD;\n",
              "  }\n",
              "\n",
              "  [theme=dark] .colab-df-quickchart {\n",
              "      --bg-color: #3B4455;\n",
              "      --fill-color: #D2E3FC;\n",
              "      --hover-bg-color: #434B5C;\n",
              "      --hover-fill-color: #FFFFFF;\n",
              "      --disabled-bg-color: #3B4455;\n",
              "      --disabled-fill-color: #666;\n",
              "  }\n",
              "\n",
              "  .colab-df-quickchart {\n",
              "    background-color: var(--bg-color);\n",
              "    border: none;\n",
              "    border-radius: 50%;\n",
              "    cursor: pointer;\n",
              "    display: none;\n",
              "    fill: var(--fill-color);\n",
              "    height: 32px;\n",
              "    padding: 0;\n",
              "    width: 32px;\n",
              "  }\n",
              "\n",
              "  .colab-df-quickchart:hover {\n",
              "    background-color: var(--hover-bg-color);\n",
              "    box-shadow: 0 1px 2px rgba(60, 64, 67, 0.3), 0 1px 3px 1px rgba(60, 64, 67, 0.15);\n",
              "    fill: var(--button-hover-fill-color);\n",
              "  }\n",
              "\n",
              "  .colab-df-quickchart-complete:disabled,\n",
              "  .colab-df-quickchart-complete:disabled:hover {\n",
              "    background-color: var(--disabled-bg-color);\n",
              "    fill: var(--disabled-fill-color);\n",
              "    box-shadow: none;\n",
              "  }\n",
              "\n",
              "  .colab-df-spinner {\n",
              "    border: 2px solid var(--fill-color);\n",
              "    border-color: transparent;\n",
              "    border-bottom-color: var(--fill-color);\n",
              "    animation:\n",
              "      spin 1s steps(1) infinite;\n",
              "  }\n",
              "\n",
              "  @keyframes spin {\n",
              "    0% {\n",
              "      border-color: transparent;\n",
              "      border-bottom-color: var(--fill-color);\n",
              "      border-left-color: var(--fill-color);\n",
              "    }\n",
              "    20% {\n",
              "      border-color: transparent;\n",
              "      border-left-color: var(--fill-color);\n",
              "      border-top-color: var(--fill-color);\n",
              "    }\n",
              "    30% {\n",
              "      border-color: transparent;\n",
              "      border-left-color: var(--fill-color);\n",
              "      border-top-color: var(--fill-color);\n",
              "      border-right-color: var(--fill-color);\n",
              "    }\n",
              "    40% {\n",
              "      border-color: transparent;\n",
              "      border-right-color: var(--fill-color);\n",
              "      border-top-color: var(--fill-color);\n",
              "    }\n",
              "    60% {\n",
              "      border-color: transparent;\n",
              "      border-right-color: var(--fill-color);\n",
              "    }\n",
              "    80% {\n",
              "      border-color: transparent;\n",
              "      border-right-color: var(--fill-color);\n",
              "      border-bottom-color: var(--fill-color);\n",
              "    }\n",
              "    90% {\n",
              "      border-color: transparent;\n",
              "      border-bottom-color: var(--fill-color);\n",
              "    }\n",
              "  }\n",
              "</style>\n",
              "\n",
              "  <script>\n",
              "    async function quickchart(key) {\n",
              "      const quickchartButtonEl =\n",
              "        document.querySelector('#' + key + ' button');\n",
              "      quickchartButtonEl.disabled = true;  // To prevent multiple clicks.\n",
              "      quickchartButtonEl.classList.add('colab-df-spinner');\n",
              "      try {\n",
              "        const charts = await google.colab.kernel.invokeFunction(\n",
              "            'suggestCharts', [key], {});\n",
              "      } catch (error) {\n",
              "        console.error('Error during call to suggestCharts:', error);\n",
              "      }\n",
              "      quickchartButtonEl.classList.remove('colab-df-spinner');\n",
              "      quickchartButtonEl.classList.add('colab-df-quickchart-complete');\n",
              "    }\n",
              "    (() => {\n",
              "      let quickchartButtonEl =\n",
              "        document.querySelector('#df-9e0781e2-c5cb-472c-9d96-75e170f5f286 button');\n",
              "      quickchartButtonEl.style.display =\n",
              "        google.colab.kernel.accessAllowed ? 'block' : 'none';\n",
              "    })();\n",
              "  </script>\n",
              "</div>\n",
              "\n",
              "    </div>\n",
              "  </div>\n"
            ],
            "application/vnd.google.colaboratory.intrinsic+json": {
              "type": "dataframe",
              "variable_name": "df",
              "summary": "{\n  \"name\": \"df\",\n  \"rows\": 48076,\n  \"fields\": [\n    {\n      \"column\": \"filename\",\n      \"properties\": {\n        \"dtype\": \"string\",\n        \"num_unique_values\": 48076,\n        \"samples\": [\n          \"dasovich-j/sent/1358.\",\n          \"baughman-d/discussion_threads/64.\",\n          \"bass-e/sent/909.\"\n        ],\n        \"semantic_type\": \"\",\n        \"description\": \"\"\n      }\n    },\n    {\n      \"column\": \"Message-ID\",\n      \"properties\": {\n        \"dtype\": \"string\",\n        \"num_unique_values\": 48076,\n        \"samples\": [\n          \"<6040499.1075843217211.JavaMail.evans@thyme>\",\n          \"<15504999.1075848322807.JavaMail.evans@thyme>\",\n          \"<33022878.1075854706185.JavaMail.evans@thyme>\"\n        ],\n        \"semantic_type\": \"\",\n        \"description\": \"\"\n      }\n    },\n    {\n      \"column\": \"content\",\n      \"properties\": {\n        \"dtype\": \"string\",\n        \"num_unique_values\": 24656,\n        \"samples\": [\n          \"Hi Sandra,\\n\\nI hope you had a nice Christmas and a fun holiday season.  We as you can\\nimagine with three  5 year old boys, it was hectic but, the look on their\\nfaces Christmas morning was priceless.\\n\\nI wanted to let you know that I am leaving Prebon as of January 15th. I have\\nspent the last eight years of my 16 years in the Energy field with Prebon\\nand we part on the best of terms.  I am talking with a few banks, a\\nconsulting firm and some energy companies, but also plan on spending some\\ntime at the house with the family.  I will let you know when and where I\\ndecide to go.  Hopefully we can work together again in the future.\\n\\nBest wishes for continued success in 2002 and the years to come.  Please\\ngive my best to Kenny.\\n\\nSincerely,\\n\\nBill\\n\\nH 908-598-9421\\nC 908-403-7021\\nF 908-598-1413\\n\\nBill-karenyoung@comcast.net <mailto:Bill-karenyoung@comcast.net>\\n\\nYoung_3600@msn.com <mailto:Young_3600@msn.com>    ( underscore between young\\nand 3600)   \",\n          \"You may have seen recent media reports on the topics of possible EPA action=\\n on New Source Review (NSR) regulation and multipollutant legislation, so I=\\n wanted to summarize some of the important current developments:\\n\\nNew Source Review:\\n\\nEPA was asked to conduct a 90-day review of NSR and come up with recommenda=\\ntions for the larger Bush National Energy Plan.   EPA held several public h=\\nearings and solicited public comments, which closed July 27.   excelr submit=\\nted comments (which I sent by e-mail on 7/30/01).   EPA has indicated that =\\nit will report to the President only on \\\"impacts of NSR on the power sector=\\n\\\" on August 17 and delay any specific recommendations for NSR reform until =\\nmid-September.\\n\\nStories in the past few days have suggested that EPA's findings will \\\"ease =\\nemissions standards\\\" on coal utilities. Such characterizations are somewhat=\\n slanted, as they are based on information coming from environmental groups=\\n who oppose any NSR reform -- but there is some substantive merit behind th=\\nese reports as well.\\n\\nNSR enforcement over plant modifications has been an extremely contentious =\\nissue for electric utilities, and many industry sources have been lobbying =\\nhard to relax EPA enforcement policy.  From an administrative perspective, =\\nthis is a relatively easy reform for  EPA to tackle -- it would only requir=\\ne a change in \\\"guidance\\\" and not a lengthy regulatory process or legislatio=\\nn.   As you can see from the attached stories, environmental groups are ext=\\nremely opposed to this type of action, and are using the media very effecti=\\nvely to put pressure on EPA against such loosening of NSR enforcement stand=\\nards.\\nEPA will likely recommend a number of broader administrative and legislativ=\\ne changes to NSR, most requiring a longer trip through the legislative or r=\\negulatory process.   Such changes could include reforms to BACT/LAER analys=\\nis for new or existing sources, relief for cleaner sources, or standardizat=\\nion of some of the more arbitrary provisions of NSR.   Given the longer-ter=\\nm effort required, these proposed reforms may be newsworthy, but less likel=\\ny to have an impact on the power sector in the short-term.\\n\\nSome of the recent complicating issues have been calls from other industry =\\nsectors (manufacturers,  refining, industrial boilers, gas pipelines) for N=\\nSR relief.  EPA would prefer to address power sector issues only, but may b=\\ne politically forced to make recommendations in other sectors as well.  It =\\nis not yet clear what sectors or what issues they will address.\\n\\nPossible Outcomes/Impacts:  Large coal utilities have spent a great deal of=\\n resources putting pressure on the Administration on the modification & enf=\\norcement issues.  The issue is the easiest short-term solution to offer fro=\\nm a regulatory standpoint, so despite environmental group opposition, it is=\\n likely that EPA will recommend immediate action in this area, along with l=\\nonger-term reforms.  For excelr businesses this means that coal, emissions a=\\nnd power trading should expect renewed strength in the coal generation sect=\\nor, as older assets would face less barriers to extending their life.  Orig=\\nination opportunities (plant upgrades, capacity increases) may increase as =\\ncustomers fears about enforcement actions subside.  Industrial and gas pipe=\\nline sectors may see relief in the modification area as well, if EPA decide=\\ns to tackle sectors outside just power.  Particularly on gas pipeline issue=\\ns, turbine maintenance issues may be clear-cut enough for EPA to make a sim=\\nple , short term recommendation.\\n\\nMultipollutant Legislation\\n\\nAlso making news lately were statements by EPA Administrator Christine Whit=\\nman, indicating that EPA plans to release a proposal to scrap existing emis=\\nsions regulations (NOx SIP Call/126 Rule, Regional Haze, SO2/Acid Rain) for=\\n a more streamlined \\\"multipollutant\\\" plan.  Multipollutant strategies have =\\nbeen discussed for some time, but are becoming more newsworthy lately becau=\\nse they were included as possible options under the Bush Energy Plan, and o=\\nffer potential solutions to NSR reform problems.\\n\\nEPA's proposed elimination of existing air programs is not as drastic as it=\\n sounds -- in fact, it offers the opportunity to replace confusing, overlap=\\nping programs on multiple pollutants that are currently regulated or will s=\\noon be regulated by EPA with a more certain and flexible system.  Prospects=\\n for development of a multipollutant trading plan that reforms NSR are much=\\n less predictable, however, and will require a longer-term legislative effo=\\nrt.  =20\\n\\nIn September 2001, we expect to see release of EPA's plan, as well as congr=\\nessional consideration of several pieces of multipollutant legislation.  We=\\n are working closely with EPA, the White House, and Congress on these issue=\\ns and will continue to keep commercial and corporate groups informed on the=\\n progress of multipollutant strategies.   Unless political dynamics change =\\ndrastically, we would not expect final action on multipollutant legislation=\\n this year.  As the issue evolves, we will be in touch with more specifics =\\non the legislation and excelr's strategy.\\n\\nIf you have questions or would like more information, please contact me.\\n\\n  =20\\n\\nJeffrey Keeler\\nDirector, Environmental Strategies\\nexcelr\\nWashington DC office - (202) 466-9157\\nCell Phone (203) 464-1541\\n\\n\\n\\n\\n\\n\\n\",\n          \"here is the house that I was talking about\\n\\nhttp://www.har.com/search/condo/indexdetail.cfm?mlnum=533930\"\n        ],\n        \"semantic_type\": \"\",\n        \"description\": \"\"\n      }\n    },\n    {\n      \"column\": \"Class\",\n      \"properties\": {\n        \"dtype\": \"category\",\n        \"num_unique_values\": 2,\n        \"samples\": [\n          \"Non Abusive\",\n          \"Abusive\"\n        ],\n        \"semantic_type\": \"\",\n        \"description\": \"\"\n      }\n    }\n  ]\n}"
            }
          },
          "metadata": {},
          "execution_count": 8
        }
      ]
    },
    {
      "cell_type": "code",
      "source": [
        "df.shape"
      ],
      "metadata": {
        "colab": {
          "base_uri": "https://localhost:8080/"
        },
        "id": "-UgDYDD0wNiO",
        "outputId": "f0ebe44d-5b06-488b-fba9-3a4897a61c88"
      },
      "execution_count": null,
      "outputs": [
        {
          "output_type": "execute_result",
          "data": {
            "text/plain": [
              "(48076, 4)"
            ]
          },
          "metadata": {},
          "execution_count": 9
        }
      ]
    },
    {
      "cell_type": "code",
      "source": [
        "df['Class']"
      ],
      "metadata": {
        "colab": {
          "base_uri": "https://localhost:8080/",
          "height": 458
        },
        "id": "0UEEMFrYwO4s",
        "outputId": "d40f5e5c-45b4-4b56-8f94-405afa42f536"
      },
      "execution_count": null,
      "outputs": [
        {
          "output_type": "execute_result",
          "data": {
            "text/plain": [
              "0            Abusive\n",
              "1            Abusive\n",
              "2            Abusive\n",
              "3            Abusive\n",
              "4            Abusive\n",
              "            ...     \n",
              "48071    Non Abusive\n",
              "48072    Non Abusive\n",
              "48073    Non Abusive\n",
              "48074    Non Abusive\n",
              "48075    Non Abusive\n",
              "Name: Class, Length: 48076, dtype: object"
            ],
            "text/html": [
              "<div>\n",
              "<style scoped>\n",
              "    .dataframe tbody tr th:only-of-type {\n",
              "        vertical-align: middle;\n",
              "    }\n",
              "\n",
              "    .dataframe tbody tr th {\n",
              "        vertical-align: top;\n",
              "    }\n",
              "\n",
              "    .dataframe thead th {\n",
              "        text-align: right;\n",
              "    }\n",
              "</style>\n",
              "<table border=\"1\" class=\"dataframe\">\n",
              "  <thead>\n",
              "    <tr style=\"text-align: right;\">\n",
              "      <th></th>\n",
              "      <th>Class</th>\n",
              "    </tr>\n",
              "  </thead>\n",
              "  <tbody>\n",
              "    <tr>\n",
              "      <th>0</th>\n",
              "      <td>Abusive</td>\n",
              "    </tr>\n",
              "    <tr>\n",
              "      <th>1</th>\n",
              "      <td>Abusive</td>\n",
              "    </tr>\n",
              "    <tr>\n",
              "      <th>2</th>\n",
              "      <td>Abusive</td>\n",
              "    </tr>\n",
              "    <tr>\n",
              "      <th>3</th>\n",
              "      <td>Abusive</td>\n",
              "    </tr>\n",
              "    <tr>\n",
              "      <th>4</th>\n",
              "      <td>Abusive</td>\n",
              "    </tr>\n",
              "    <tr>\n",
              "      <th>...</th>\n",
              "      <td>...</td>\n",
              "    </tr>\n",
              "    <tr>\n",
              "      <th>48071</th>\n",
              "      <td>Non Abusive</td>\n",
              "    </tr>\n",
              "    <tr>\n",
              "      <th>48072</th>\n",
              "      <td>Non Abusive</td>\n",
              "    </tr>\n",
              "    <tr>\n",
              "      <th>48073</th>\n",
              "      <td>Non Abusive</td>\n",
              "    </tr>\n",
              "    <tr>\n",
              "      <th>48074</th>\n",
              "      <td>Non Abusive</td>\n",
              "    </tr>\n",
              "    <tr>\n",
              "      <th>48075</th>\n",
              "      <td>Non Abusive</td>\n",
              "    </tr>\n",
              "  </tbody>\n",
              "</table>\n",
              "<p>48076 rows × 1 columns</p>\n",
              "</div><br><label><b>dtype:</b> object</label>"
            ]
          },
          "metadata": {},
          "execution_count": 10
        }
      ]
    },
    {
      "cell_type": "code",
      "source": [
        "nltk.download('stopwords')\n",
        "nltk.download('wordnet')\n",
        "\n",
        "stemmer = PorterStemmer() # Changed 'Stemmer' to 'stemmer'\n",
        "lemmatizer = WordNetLemmatizer() # Changed 'Lemmatizer' to 'lemmatizer'\n",
        "stop_word = set(stopwords.words('english')) # Changed 'word' to 'words'\n",
        "\n",
        "def preprocess_text(text):\n",
        "    text = re.sub(r'[^\\w\\s]', '', text).lower()\n",
        "    tokenized_text = text.split()\n",
        "    tokens = [word for word in tokenized_text if word not in stop_word]\n",
        "    tokens = [stemmer.stem(word) for word in tokens] # Now using 'stemmer'\n",
        "    tokens = [lemmatizer.lemmatize(word) for word in tokens] # Now using 'lemmatizer'\n",
        "    return ''.join(tokens)\n",
        "\n",
        "df['clean_text'] = df['content'].apply(preprocess_text)"
      ],
      "metadata": {
        "colab": {
          "base_uri": "https://localhost:8080/"
        },
        "id": "qot0nGfKwdD6",
        "outputId": "e4090dc4-0bed-46b6-b083-46034da6f390"
      },
      "execution_count": null,
      "outputs": [
        {
          "output_type": "stream",
          "name": "stderr",
          "text": [
            "[nltk_data] Downloading package stopwords to /root/nltk_data...\n",
            "[nltk_data]   Unzipping corpora/stopwords.zip.\n",
            "[nltk_data] Downloading package wordnet to /root/nltk_data...\n"
          ]
        }
      ]
    },
    {
      "cell_type": "code",
      "source": [
        "df.head()"
      ],
      "metadata": {
        "colab": {
          "base_uri": "https://localhost:8080/",
          "height": 206
        },
        "id": "tnK0k89lzOGQ",
        "outputId": "cd30cbc2-5f16-4fae-e03d-eff1052e772c"
      },
      "execution_count": null,
      "outputs": [
        {
          "output_type": "execute_result",
          "data": {
            "text/plain": [
              "                   filename                                     Message-ID  \\\n",
              "0   arnold-j/_sent_mail/34.  <15267340.1075857594923.JavaMail.evans@thyme>   \n",
              "1  arnold-j/_sent_mail/517.  <15539583.1075857652152.JavaMail.evans@thyme>   \n",
              "2  arnold-j/_sent_mail/743.   <4339799.1075857657711.JavaMail.evans@thyme>   \n",
              "3  arnold-j/_sent_mail/766.  <25574783.1075857658215.JavaMail.evans@thyme>   \n",
              "4  arnold-j/_sent_mail/797.  <19506151.1075857658895.JavaMail.evans@thyme>   \n",
              "\n",
              "                                             content    Class  \\\n",
              "0  eat shit\\n\\n\\n\\n\\nJohn J Lavorato@excelr\\n11/1...  Abusive   \n",
              "1                                           fuck you  Abusive   \n",
              "2  Gentlemen:\\nThe following champagne is availab...  Abusive   \n",
              "3  sorry i've taken so long...just been trying to...  Abusive   \n",
              "4  asshole\\n\\n\\n\\n\\nJohn J Lavorato@excelr\\n12/23...  Abusive   \n",
              "\n",
              "                                          clean_text  \n",
              "0  eatshitjohnjlavoratoexcelr111820000101pmjohnar...  \n",
              "1                                               fuck  \n",
              "2  gentlemanfollowchampagnavail70approximretailpr...  \n",
              "3  sorriivetakenlongjusttrifendchicklifesooooohar...  \n",
              "4  assholjohnjlavoratoexcelr122320001051johnarnol...  "
            ],
            "text/html": [
              "\n",
              "  <div id=\"df-93cd87bc-adc0-4034-a553-b1729f2db2bb\" class=\"colab-df-container\">\n",
              "    <div>\n",
              "<style scoped>\n",
              "    .dataframe tbody tr th:only-of-type {\n",
              "        vertical-align: middle;\n",
              "    }\n",
              "\n",
              "    .dataframe tbody tr th {\n",
              "        vertical-align: top;\n",
              "    }\n",
              "\n",
              "    .dataframe thead th {\n",
              "        text-align: right;\n",
              "    }\n",
              "</style>\n",
              "<table border=\"1\" class=\"dataframe\">\n",
              "  <thead>\n",
              "    <tr style=\"text-align: right;\">\n",
              "      <th></th>\n",
              "      <th>filename</th>\n",
              "      <th>Message-ID</th>\n",
              "      <th>content</th>\n",
              "      <th>Class</th>\n",
              "      <th>clean_text</th>\n",
              "    </tr>\n",
              "  </thead>\n",
              "  <tbody>\n",
              "    <tr>\n",
              "      <th>0</th>\n",
              "      <td>arnold-j/_sent_mail/34.</td>\n",
              "      <td>&lt;15267340.1075857594923.JavaMail.evans@thyme&gt;</td>\n",
              "      <td>eat shit\\n\\n\\n\\n\\nJohn J Lavorato@excelr\\n11/1...</td>\n",
              "      <td>Abusive</td>\n",
              "      <td>eatshitjohnjlavoratoexcelr111820000101pmjohnar...</td>\n",
              "    </tr>\n",
              "    <tr>\n",
              "      <th>1</th>\n",
              "      <td>arnold-j/_sent_mail/517.</td>\n",
              "      <td>&lt;15539583.1075857652152.JavaMail.evans@thyme&gt;</td>\n",
              "      <td>fuck you</td>\n",
              "      <td>Abusive</td>\n",
              "      <td>fuck</td>\n",
              "    </tr>\n",
              "    <tr>\n",
              "      <th>2</th>\n",
              "      <td>arnold-j/_sent_mail/743.</td>\n",
              "      <td>&lt;4339799.1075857657711.JavaMail.evans@thyme&gt;</td>\n",
              "      <td>Gentlemen:\\nThe following champagne is availab...</td>\n",
              "      <td>Abusive</td>\n",
              "      <td>gentlemanfollowchampagnavail70approximretailpr...</td>\n",
              "    </tr>\n",
              "    <tr>\n",
              "      <th>3</th>\n",
              "      <td>arnold-j/_sent_mail/766.</td>\n",
              "      <td>&lt;25574783.1075857658215.JavaMail.evans@thyme&gt;</td>\n",
              "      <td>sorry i've taken so long...just been trying to...</td>\n",
              "      <td>Abusive</td>\n",
              "      <td>sorriivetakenlongjusttrifendchicklifesooooohar...</td>\n",
              "    </tr>\n",
              "    <tr>\n",
              "      <th>4</th>\n",
              "      <td>arnold-j/_sent_mail/797.</td>\n",
              "      <td>&lt;19506151.1075857658895.JavaMail.evans@thyme&gt;</td>\n",
              "      <td>asshole\\n\\n\\n\\n\\nJohn J Lavorato@excelr\\n12/23...</td>\n",
              "      <td>Abusive</td>\n",
              "      <td>assholjohnjlavoratoexcelr122320001051johnarnol...</td>\n",
              "    </tr>\n",
              "  </tbody>\n",
              "</table>\n",
              "</div>\n",
              "    <div class=\"colab-df-buttons\">\n",
              "\n",
              "  <div class=\"colab-df-container\">\n",
              "    <button class=\"colab-df-convert\" onclick=\"convertToInteractive('df-93cd87bc-adc0-4034-a553-b1729f2db2bb')\"\n",
              "            title=\"Convert this dataframe to an interactive table.\"\n",
              "            style=\"display:none;\">\n",
              "\n",
              "  <svg xmlns=\"http://www.w3.org/2000/svg\" height=\"24px\" viewBox=\"0 -960 960 960\">\n",
              "    <path d=\"M120-120v-720h720v720H120Zm60-500h600v-160H180v160Zm220 220h160v-160H400v160Zm0 220h160v-160H400v160ZM180-400h160v-160H180v160Zm440 0h160v-160H620v160ZM180-180h160v-160H180v160Zm440 0h160v-160H620v160Z\"/>\n",
              "  </svg>\n",
              "    </button>\n",
              "\n",
              "  <style>\n",
              "    .colab-df-container {\n",
              "      display:flex;\n",
              "      gap: 12px;\n",
              "    }\n",
              "\n",
              "    .colab-df-convert {\n",
              "      background-color: #E8F0FE;\n",
              "      border: none;\n",
              "      border-radius: 50%;\n",
              "      cursor: pointer;\n",
              "      display: none;\n",
              "      fill: #1967D2;\n",
              "      height: 32px;\n",
              "      padding: 0 0 0 0;\n",
              "      width: 32px;\n",
              "    }\n",
              "\n",
              "    .colab-df-convert:hover {\n",
              "      background-color: #E2EBFA;\n",
              "      box-shadow: 0px 1px 2px rgba(60, 64, 67, 0.3), 0px 1px 3px 1px rgba(60, 64, 67, 0.15);\n",
              "      fill: #174EA6;\n",
              "    }\n",
              "\n",
              "    .colab-df-buttons div {\n",
              "      margin-bottom: 4px;\n",
              "    }\n",
              "\n",
              "    [theme=dark] .colab-df-convert {\n",
              "      background-color: #3B4455;\n",
              "      fill: #D2E3FC;\n",
              "    }\n",
              "\n",
              "    [theme=dark] .colab-df-convert:hover {\n",
              "      background-color: #434B5C;\n",
              "      box-shadow: 0px 1px 3px 1px rgba(0, 0, 0, 0.15);\n",
              "      filter: drop-shadow(0px 1px 2px rgba(0, 0, 0, 0.3));\n",
              "      fill: #FFFFFF;\n",
              "    }\n",
              "  </style>\n",
              "\n",
              "    <script>\n",
              "      const buttonEl =\n",
              "        document.querySelector('#df-93cd87bc-adc0-4034-a553-b1729f2db2bb button.colab-df-convert');\n",
              "      buttonEl.style.display =\n",
              "        google.colab.kernel.accessAllowed ? 'block' : 'none';\n",
              "\n",
              "      async function convertToInteractive(key) {\n",
              "        const element = document.querySelector('#df-93cd87bc-adc0-4034-a553-b1729f2db2bb');\n",
              "        const dataTable =\n",
              "          await google.colab.kernel.invokeFunction('convertToInteractive',\n",
              "                                                    [key], {});\n",
              "        if (!dataTable) return;\n",
              "\n",
              "        const docLinkHtml = 'Like what you see? Visit the ' +\n",
              "          '<a target=\"_blank\" href=https://colab.research.google.com/notebooks/data_table.ipynb>data table notebook</a>'\n",
              "          + ' to learn more about interactive tables.';\n",
              "        element.innerHTML = '';\n",
              "        dataTable['output_type'] = 'display_data';\n",
              "        await google.colab.output.renderOutput(dataTable, element);\n",
              "        const docLink = document.createElement('div');\n",
              "        docLink.innerHTML = docLinkHtml;\n",
              "        element.appendChild(docLink);\n",
              "      }\n",
              "    </script>\n",
              "  </div>\n",
              "\n",
              "\n",
              "<div id=\"df-33688b45-7519-4b72-94ff-7e1687bafde9\">\n",
              "  <button class=\"colab-df-quickchart\" onclick=\"quickchart('df-33688b45-7519-4b72-94ff-7e1687bafde9')\"\n",
              "            title=\"Suggest charts\"\n",
              "            style=\"display:none;\">\n",
              "\n",
              "<svg xmlns=\"http://www.w3.org/2000/svg\" height=\"24px\"viewBox=\"0 0 24 24\"\n",
              "     width=\"24px\">\n",
              "    <g>\n",
              "        <path d=\"M19 3H5c-1.1 0-2 .9-2 2v14c0 1.1.9 2 2 2h14c1.1 0 2-.9 2-2V5c0-1.1-.9-2-2-2zM9 17H7v-7h2v7zm4 0h-2V7h2v10zm4 0h-2v-4h2v4z\"/>\n",
              "    </g>\n",
              "</svg>\n",
              "  </button>\n",
              "\n",
              "<style>\n",
              "  .colab-df-quickchart {\n",
              "      --bg-color: #E8F0FE;\n",
              "      --fill-color: #1967D2;\n",
              "      --hover-bg-color: #E2EBFA;\n",
              "      --hover-fill-color: #174EA6;\n",
              "      --disabled-fill-color: #AAA;\n",
              "      --disabled-bg-color: #DDD;\n",
              "  }\n",
              "\n",
              "  [theme=dark] .colab-df-quickchart {\n",
              "      --bg-color: #3B4455;\n",
              "      --fill-color: #D2E3FC;\n",
              "      --hover-bg-color: #434B5C;\n",
              "      --hover-fill-color: #FFFFFF;\n",
              "      --disabled-bg-color: #3B4455;\n",
              "      --disabled-fill-color: #666;\n",
              "  }\n",
              "\n",
              "  .colab-df-quickchart {\n",
              "    background-color: var(--bg-color);\n",
              "    border: none;\n",
              "    border-radius: 50%;\n",
              "    cursor: pointer;\n",
              "    display: none;\n",
              "    fill: var(--fill-color);\n",
              "    height: 32px;\n",
              "    padding: 0;\n",
              "    width: 32px;\n",
              "  }\n",
              "\n",
              "  .colab-df-quickchart:hover {\n",
              "    background-color: var(--hover-bg-color);\n",
              "    box-shadow: 0 1px 2px rgba(60, 64, 67, 0.3), 0 1px 3px 1px rgba(60, 64, 67, 0.15);\n",
              "    fill: var(--button-hover-fill-color);\n",
              "  }\n",
              "\n",
              "  .colab-df-quickchart-complete:disabled,\n",
              "  .colab-df-quickchart-complete:disabled:hover {\n",
              "    background-color: var(--disabled-bg-color);\n",
              "    fill: var(--disabled-fill-color);\n",
              "    box-shadow: none;\n",
              "  }\n",
              "\n",
              "  .colab-df-spinner {\n",
              "    border: 2px solid var(--fill-color);\n",
              "    border-color: transparent;\n",
              "    border-bottom-color: var(--fill-color);\n",
              "    animation:\n",
              "      spin 1s steps(1) infinite;\n",
              "  }\n",
              "\n",
              "  @keyframes spin {\n",
              "    0% {\n",
              "      border-color: transparent;\n",
              "      border-bottom-color: var(--fill-color);\n",
              "      border-left-color: var(--fill-color);\n",
              "    }\n",
              "    20% {\n",
              "      border-color: transparent;\n",
              "      border-left-color: var(--fill-color);\n",
              "      border-top-color: var(--fill-color);\n",
              "    }\n",
              "    30% {\n",
              "      border-color: transparent;\n",
              "      border-left-color: var(--fill-color);\n",
              "      border-top-color: var(--fill-color);\n",
              "      border-right-color: var(--fill-color);\n",
              "    }\n",
              "    40% {\n",
              "      border-color: transparent;\n",
              "      border-right-color: var(--fill-color);\n",
              "      border-top-color: var(--fill-color);\n",
              "    }\n",
              "    60% {\n",
              "      border-color: transparent;\n",
              "      border-right-color: var(--fill-color);\n",
              "    }\n",
              "    80% {\n",
              "      border-color: transparent;\n",
              "      border-right-color: var(--fill-color);\n",
              "      border-bottom-color: var(--fill-color);\n",
              "    }\n",
              "    90% {\n",
              "      border-color: transparent;\n",
              "      border-bottom-color: var(--fill-color);\n",
              "    }\n",
              "  }\n",
              "</style>\n",
              "\n",
              "  <script>\n",
              "    async function quickchart(key) {\n",
              "      const quickchartButtonEl =\n",
              "        document.querySelector('#' + key + ' button');\n",
              "      quickchartButtonEl.disabled = true;  // To prevent multiple clicks.\n",
              "      quickchartButtonEl.classList.add('colab-df-spinner');\n",
              "      try {\n",
              "        const charts = await google.colab.kernel.invokeFunction(\n",
              "            'suggestCharts', [key], {});\n",
              "      } catch (error) {\n",
              "        console.error('Error during call to suggestCharts:', error);\n",
              "      }\n",
              "      quickchartButtonEl.classList.remove('colab-df-spinner');\n",
              "      quickchartButtonEl.classList.add('colab-df-quickchart-complete');\n",
              "    }\n",
              "    (() => {\n",
              "      let quickchartButtonEl =\n",
              "        document.querySelector('#df-33688b45-7519-4b72-94ff-7e1687bafde9 button');\n",
              "      quickchartButtonEl.style.display =\n",
              "        google.colab.kernel.accessAllowed ? 'block' : 'none';\n",
              "    })();\n",
              "  </script>\n",
              "</div>\n",
              "\n",
              "    </div>\n",
              "  </div>\n"
            ],
            "application/vnd.google.colaboratory.intrinsic+json": {
              "type": "dataframe",
              "variable_name": "df",
              "summary": "{\n  \"name\": \"df\",\n  \"rows\": 48076,\n  \"fields\": [\n    {\n      \"column\": \"filename\",\n      \"properties\": {\n        \"dtype\": \"string\",\n        \"num_unique_values\": 48076,\n        \"samples\": [\n          \"dasovich-j/sent/1358.\",\n          \"baughman-d/discussion_threads/64.\",\n          \"bass-e/sent/909.\"\n        ],\n        \"semantic_type\": \"\",\n        \"description\": \"\"\n      }\n    },\n    {\n      \"column\": \"Message-ID\",\n      \"properties\": {\n        \"dtype\": \"string\",\n        \"num_unique_values\": 48076,\n        \"samples\": [\n          \"<6040499.1075843217211.JavaMail.evans@thyme>\",\n          \"<15504999.1075848322807.JavaMail.evans@thyme>\",\n          \"<33022878.1075854706185.JavaMail.evans@thyme>\"\n        ],\n        \"semantic_type\": \"\",\n        \"description\": \"\"\n      }\n    },\n    {\n      \"column\": \"content\",\n      \"properties\": {\n        \"dtype\": \"string\",\n        \"num_unique_values\": 24656,\n        \"samples\": [\n          \"Hi Sandra,\\n\\nI hope you had a nice Christmas and a fun holiday season.  We as you can\\nimagine with three  5 year old boys, it was hectic but, the look on their\\nfaces Christmas morning was priceless.\\n\\nI wanted to let you know that I am leaving Prebon as of January 15th. I have\\nspent the last eight years of my 16 years in the Energy field with Prebon\\nand we part on the best of terms.  I am talking with a few banks, a\\nconsulting firm and some energy companies, but also plan on spending some\\ntime at the house with the family.  I will let you know when and where I\\ndecide to go.  Hopefully we can work together again in the future.\\n\\nBest wishes for continued success in 2002 and the years to come.  Please\\ngive my best to Kenny.\\n\\nSincerely,\\n\\nBill\\n\\nH 908-598-9421\\nC 908-403-7021\\nF 908-598-1413\\n\\nBill-karenyoung@comcast.net <mailto:Bill-karenyoung@comcast.net>\\n\\nYoung_3600@msn.com <mailto:Young_3600@msn.com>    ( underscore between young\\nand 3600)   \",\n          \"You may have seen recent media reports on the topics of possible EPA action=\\n on New Source Review (NSR) regulation and multipollutant legislation, so I=\\n wanted to summarize some of the important current developments:\\n\\nNew Source Review:\\n\\nEPA was asked to conduct a 90-day review of NSR and come up with recommenda=\\ntions for the larger Bush National Energy Plan.   EPA held several public h=\\nearings and solicited public comments, which closed July 27.   excelr submit=\\nted comments (which I sent by e-mail on 7/30/01).   EPA has indicated that =\\nit will report to the President only on \\\"impacts of NSR on the power sector=\\n\\\" on August 17 and delay any specific recommendations for NSR reform until =\\nmid-September.\\n\\nStories in the past few days have suggested that EPA's findings will \\\"ease =\\nemissions standards\\\" on coal utilities. Such characterizations are somewhat=\\n slanted, as they are based on information coming from environmental groups=\\n who oppose any NSR reform -- but there is some substantive merit behind th=\\nese reports as well.\\n\\nNSR enforcement over plant modifications has been an extremely contentious =\\nissue for electric utilities, and many industry sources have been lobbying =\\nhard to relax EPA enforcement policy.  From an administrative perspective, =\\nthis is a relatively easy reform for  EPA to tackle -- it would only requir=\\ne a change in \\\"guidance\\\" and not a lengthy regulatory process or legislatio=\\nn.   As you can see from the attached stories, environmental groups are ext=\\nremely opposed to this type of action, and are using the media very effecti=\\nvely to put pressure on EPA against such loosening of NSR enforcement stand=\\nards.\\nEPA will likely recommend a number of broader administrative and legislativ=\\ne changes to NSR, most requiring a longer trip through the legislative or r=\\negulatory process.   Such changes could include reforms to BACT/LAER analys=\\nis for new or existing sources, relief for cleaner sources, or standardizat=\\nion of some of the more arbitrary provisions of NSR.   Given the longer-ter=\\nm effort required, these proposed reforms may be newsworthy, but less likel=\\ny to have an impact on the power sector in the short-term.\\n\\nSome of the recent complicating issues have been calls from other industry =\\nsectors (manufacturers,  refining, industrial boilers, gas pipelines) for N=\\nSR relief.  EPA would prefer to address power sector issues only, but may b=\\ne politically forced to make recommendations in other sectors as well.  It =\\nis not yet clear what sectors or what issues they will address.\\n\\nPossible Outcomes/Impacts:  Large coal utilities have spent a great deal of=\\n resources putting pressure on the Administration on the modification & enf=\\norcement issues.  The issue is the easiest short-term solution to offer fro=\\nm a regulatory standpoint, so despite environmental group opposition, it is=\\n likely that EPA will recommend immediate action in this area, along with l=\\nonger-term reforms.  For excelr businesses this means that coal, emissions a=\\nnd power trading should expect renewed strength in the coal generation sect=\\nor, as older assets would face less barriers to extending their life.  Orig=\\nination opportunities (plant upgrades, capacity increases) may increase as =\\ncustomers fears about enforcement actions subside.  Industrial and gas pipe=\\nline sectors may see relief in the modification area as well, if EPA decide=\\ns to tackle sectors outside just power.  Particularly on gas pipeline issue=\\ns, turbine maintenance issues may be clear-cut enough for EPA to make a sim=\\nple , short term recommendation.\\n\\nMultipollutant Legislation\\n\\nAlso making news lately were statements by EPA Administrator Christine Whit=\\nman, indicating that EPA plans to release a proposal to scrap existing emis=\\nsions regulations (NOx SIP Call/126 Rule, Regional Haze, SO2/Acid Rain) for=\\n a more streamlined \\\"multipollutant\\\" plan.  Multipollutant strategies have =\\nbeen discussed for some time, but are becoming more newsworthy lately becau=\\nse they were included as possible options under the Bush Energy Plan, and o=\\nffer potential solutions to NSR reform problems.\\n\\nEPA's proposed elimination of existing air programs is not as drastic as it=\\n sounds -- in fact, it offers the opportunity to replace confusing, overlap=\\nping programs on multiple pollutants that are currently regulated or will s=\\noon be regulated by EPA with a more certain and flexible system.  Prospects=\\n for development of a multipollutant trading plan that reforms NSR are much=\\n less predictable, however, and will require a longer-term legislative effo=\\nrt.  =20\\n\\nIn September 2001, we expect to see release of EPA's plan, as well as congr=\\nessional consideration of several pieces of multipollutant legislation.  We=\\n are working closely with EPA, the White House, and Congress on these issue=\\ns and will continue to keep commercial and corporate groups informed on the=\\n progress of multipollutant strategies.   Unless political dynamics change =\\ndrastically, we would not expect final action on multipollutant legislation=\\n this year.  As the issue evolves, we will be in touch with more specifics =\\non the legislation and excelr's strategy.\\n\\nIf you have questions or would like more information, please contact me.\\n\\n  =20\\n\\nJeffrey Keeler\\nDirector, Environmental Strategies\\nexcelr\\nWashington DC office - (202) 466-9157\\nCell Phone (203) 464-1541\\n\\n\\n\\n\\n\\n\\n\",\n          \"here is the house that I was talking about\\n\\nhttp://www.har.com/search/condo/indexdetail.cfm?mlnum=533930\"\n        ],\n        \"semantic_type\": \"\",\n        \"description\": \"\"\n      }\n    },\n    {\n      \"column\": \"Class\",\n      \"properties\": {\n        \"dtype\": \"category\",\n        \"num_unique_values\": 2,\n        \"samples\": [\n          \"Non Abusive\",\n          \"Abusive\"\n        ],\n        \"semantic_type\": \"\",\n        \"description\": \"\"\n      }\n    },\n    {\n      \"column\": \"clean_text\",\n      \"properties\": {\n        \"dtype\": \"category\",\n        \"num_unique_values\": 23944,\n        \"samples\": [\n          \"weeklibidprocessfinishcomplettransactwebsit\",\n          \"octob242001fercsunshinmeetfollowitemdiscusskernriverfirmcustomrehearrequestdenic6c8agendacalllindabreathitttwokernriverexpansappliccaactionprojectcp01692002expanscp01106receivcertifdraftorderdenirehearrequestfirmcustomwhochargadditcausprorataallocwheelrridgdraftorderstatebenefitprojectoutweighpotentiadversimpactexistcustomsolutionproblemproratacurtailwheelerridglieterstatpipelinresolvproblemtakeawaycapacnsocalgahencorderreasonkernriversatisfibligatcustomcurrentlackintrastcapaccannotlaidkernriverdoorbreathittfileconcurrtwoorderhighlightimportantissufercresponsintervenalleginsufficitakeawaycapacrelatinterstexpansthoughbreathittdoesntdissentreheardenialwantunderscorimportcommissacknowledgrolepossibldegradfexistrightplaydeterminpublicneednecessitypipelinexpansalsostateuneasifercstridentpolicifavoradpipelinfacildespitpossiblinefficiconstraintreiterfercmandatngagoebeyondmakesurepipelingetgroundnotecommissrevisittakeawaycapacissuanotkernriverexpansappliccp014222003expansprojectbrownelcalldevelopregionstaterelatpanelaupiceelectrmarketdesignstructurnoprrm0112e5agendathoughissuancnoprapparimmindiscussionitemnorabrownelannouncsentmemothreecommissionrecommenddevelopinternstructurcoordincommunfercstatecommissneedfcoordinemergobvioufrustratexpressstatecommissionrtoweekgetprocessgocommissionbrownellaskstaffpursustructurperhaptyperegionpanelwithmissionstrengthenfederalrelationshipconsidagnitudrtodevelopferclikeneeddedicstaffworkchairmanwoodrequestdanlarcampdirectoromtrbringproposcommissnextmeetimplementstructurthreecommissionsupportbrownelproposalcommissionmasseynotetherealreadisevenyearprocessinputrtoformatnewstructurdevelopwaygetuendgamconcretclearliwesterninfrastructurreportlaybaselinfercadequaciconferseattlstaffpresentmultipldetailreportdatabackgroundmaterigatherlaygroundworkdiscusnextmonthwesterninfrastructuradequaciconferseattlnovemb2similarconferheldregionacrosscountriconferfercfactfindmissionseekanswerthreeprimariquestion10909icurrentenergiinfrastructurwestadequ209whatinfrastructurneedregion309whatfactorinhibitinvestdevelopadequenergiinfrastructurpresentseemfocuprimarilielectrtransmissconfercoverenergideliverisystemoverridquestionfrontneeddoneneedpowerpointpresentmadestaffalreadiavailfercwebsitehttpwwwfercgovcalendarcommissionmeetingsdiscussion_papershtm20rtoweekupdate20staffupdatcommissionpublicweekrtopanelheldferclastweekstaffpreparorgandocumentoutlinstaffheardpostfercwebsitweekocumentintendgivefocureplicommentstakeholdstaffalsosuggestmayneedholdsmallerfocusstaffsessiondigdeeperaccordstaffseembeconsensu10000milehighlevelspecifissuemergmayrequirdiscuslengthiupdatdiscustwortomediatsoutheastnortheastmidwestrtoprogressnortheastsoutheastrtomediatcasestaffmediatjudgbriefcommissionordermediatleftproposoptiontablnextstepmaybenecessarimediatreportavailonlinendweekclearcommissgovotertovotemeetdiscusmidwestmisoartoreadiopermisoppalsopreparmergcommissiondiscusspecifmidwestproposvotetakenindicgivenvotemayoccuretdraftorderissu09northernnaturrp00223005northernlimitfirmtransportlfttariffsheetapprovincludtwoadditlftsheetconcerncarltonsurcharg09calypsocp01444000letterissusecretaristatesecretaridefensrequestreviewdraftpresidentipermitcalypsoconstructoperpipelinfacilboundariuexclusiveconomzoneeezbahamaeez\"\n        ],\n        \"semantic_type\": \"\",\n        \"description\": \"\"\n      }\n    }\n  ]\n}"
            }
          },
          "metadata": {},
          "execution_count": 12
        }
      ]
    },
    {
      "cell_type": "code",
      "source": [
        "sns.countplot(df['Class'])\n",
        "plt.title('Abusive vs Non Abusive')\n",
        "plt.show()"
      ],
      "metadata": {
        "colab": {
          "base_uri": "https://localhost:8080/",
          "height": 472
        },
        "id": "szk1sEXP3_HO",
        "outputId": "34dd75a2-9df2-4984-abc9-3d211c2e6ccf"
      },
      "execution_count": null,
      "outputs": [
        {
          "output_type": "display_data",
          "data": {
            "text/plain": [
              "<Figure size 640x480 with 1 Axes>"
            ],
            "image/png": "[encoded data removed]"
          },
          "metadata": {}
        }
      ]
    },
    {
      "cell_type": "code",
      "source": [
        "print(df['Class'].value_counts())  # Print the counts of each unique value in the 'Class' column"
      ],
      "metadata": {
        "colab": {
          "base_uri": "https://localhost:8080/"
        },
        "id": "es2A5gO399Au",
        "outputId": "71d4e63e-4631-4959-bdb0-d924342a9c0a"
      },
      "execution_count": null,
      "outputs": [
        {
          "output_type": "stream",
          "name": "stdout",
          "text": [
            "Class\n",
            "Non Abusive    44666\n",
            "Abusive         3410\n",
            "Name: count, dtype: int64\n"
          ]
        }
      ]
    },
    {
      "cell_type": "code",
      "source": [
        "encoder = OneHotEncoder()\n",
        "encoded_labels = encoder.fit_transform(df[['Class']]).toarray()\n",
        "\n",
        "# Convert back to DataFrame and concatenate with the original DataFrame\n",
        "df_encoded = pd.DataFrame(encoded_labels, columns=encoder.get_feature_names_out(['Class']))\n",
        "df = pd.concat([df,df_encoded], axis=1)\n",
        "\n",
        "df.drop('Class', axis=1, inplace=True)\n"
      ],
      "metadata": {
        "id": "-mC-BFfNn5fn"
      },
      "execution_count": null,
      "outputs": []
    },
    {
      "cell_type": "code",
      "source": [
        "df.head()"
      ],
      "metadata": {
        "colab": {
          "base_uri": "https://localhost:8080/",
          "height": 310
        },
        "id": "d3ibDoWvrjBO",
        "outputId": "afe51ee2-93c6-4bf6-d701-34c23d3a6466"
      },
      "execution_count": null,
      "outputs": [
        {
          "output_type": "execute_result",
          "data": {
            "text/plain": [
              "                   filename                                     Message-ID  \\\n",
              "0   arnold-j/_sent_mail/34.  <15267340.1075857594923.JavaMail.evans@thyme>   \n",
              "1  arnold-j/_sent_mail/517.  <15539583.1075857652152.JavaMail.evans@thyme>   \n",
              "2  arnold-j/_sent_mail/743.   <4339799.1075857657711.JavaMail.evans@thyme>   \n",
              "3  arnold-j/_sent_mail/766.  <25574783.1075857658215.JavaMail.evans@thyme>   \n",
              "4  arnold-j/_sent_mail/797.  <19506151.1075857658895.JavaMail.evans@thyme>   \n",
              "\n",
              "                                             content  \\\n",
              "0  eat shit\\n\\n\\n\\n\\nJohn J Lavorato@excelr\\n11/1...   \n",
              "1                                           fuck you   \n",
              "2  Gentlemen:\\nThe following champagne is availab...   \n",
              "3  sorry i've taken so long...just been trying to...   \n",
              "4  asshole\\n\\n\\n\\n\\nJohn J Lavorato@excelr\\n12/23...   \n",
              "\n",
              "                                          clean_text  Class_Abusive  \\\n",
              "0  eatshitjohnjlavoratoexcelr111820000101pmjohnar...            1.0   \n",
              "1                                               fuck            1.0   \n",
              "2  gentlemanfollowchampagnavail70approximretailpr...            1.0   \n",
              "3  sorriivetakenlongjusttrifendchicklifesooooohar...            1.0   \n",
              "4  assholjohnjlavoratoexcelr122320001051johnarnol...            1.0   \n",
              "\n",
              "   Class_Non Abusive  \n",
              "0                0.0  \n",
              "1                0.0  \n",
              "2                0.0  \n",
              "3                0.0  \n",
              "4                0.0  "
            ],
            "text/html": [
              "\n",
              "  <div id=\"df-e999c3d2-03a7-4720-8359-ef6aae82f706\" class=\"colab-df-container\">\n",
              "    <div>\n",
              "<style scoped>\n",
              "    .dataframe tbody tr th:only-of-type {\n",
              "        vertical-align: middle;\n",
              "    }\n",
              "\n",
              "    .dataframe tbody tr th {\n",
              "        vertical-align: top;\n",
              "    }\n",
              "\n",
              "    .dataframe thead th {\n",
              "        text-align: right;\n",
              "    }\n",
              "</style>\n",
              "<table border=\"1\" class=\"dataframe\">\n",
              "  <thead>\n",
              "    <tr style=\"text-align: right;\">\n",
              "      <th></th>\n",
              "      <th>filename</th>\n",
              "      <th>Message-ID</th>\n",
              "      <th>content</th>\n",
              "      <th>clean_text</th>\n",
              "      <th>Class_Abusive</th>\n",
              "      <th>Class_Non Abusive</th>\n",
              "    </tr>\n",
              "  </thead>\n",
              "  <tbody>\n",
              "    <tr>\n",
              "      <th>0</th>\n",
              "      <td>arnold-j/_sent_mail/34.</td>\n",
              "      <td>&lt;15267340.1075857594923.JavaMail.evans@thyme&gt;</td>\n",
              "      <td>eat shit\\n\\n\\n\\n\\nJohn J Lavorato@excelr\\n11/1...</td>\n",
              "      <td>eatshitjohnjlavoratoexcelr111820000101pmjohnar...</td>\n",
              "      <td>1.0</td>\n",
              "      <td>0.0</td>\n",
              "    </tr>\n",
              "    <tr>\n",
              "      <th>1</th>\n",
              "      <td>arnold-j/_sent_mail/517.</td>\n",
              "      <td>&lt;15539583.1075857652152.JavaMail.evans@thyme&gt;</td>\n",
              "      <td>fuck you</td>\n",
              "      <td>fuck</td>\n",
              "      <td>1.0</td>\n",
              "      <td>0.0</td>\n",
              "    </tr>\n",
              "    <tr>\n",
              "      <th>2</th>\n",
              "      <td>arnold-j/_sent_mail/743.</td>\n",
              "      <td>&lt;4339799.1075857657711.JavaMail.evans@thyme&gt;</td>\n",
              "      <td>Gentlemen:\\nThe following champagne is availab...</td>\n",
              "      <td>gentlemanfollowchampagnavail70approximretailpr...</td>\n",
              "      <td>1.0</td>\n",
              "      <td>0.0</td>\n",
              "    </tr>\n",
              "    <tr>\n",
              "      <th>3</th>\n",
              "      <td>arnold-j/_sent_mail/766.</td>\n",
              "      <td>&lt;25574783.1075857658215.JavaMail.evans@thyme&gt;</td>\n",
              "      <td>sorry i've taken so long...just been trying to...</td>\n",
              "      <td>sorriivetakenlongjusttrifendchicklifesooooohar...</td>\n",
              "      <td>1.0</td>\n",
              "      <td>0.0</td>\n",
              "    </tr>\n",
              "    <tr>\n",
              "      <th>4</th>\n",
              "      <td>arnold-j/_sent_mail/797.</td>\n",
              "      <td>&lt;19506151.1075857658895.JavaMail.evans@thyme&gt;</td>\n",
              "      <td>asshole\\n\\n\\n\\n\\nJohn J Lavorato@excelr\\n12/23...</td>\n",
              "      <td>assholjohnjlavoratoexcelr122320001051johnarnol...</td>\n",
              "      <td>1.0</td>\n",
              "      <td>0.0</td>\n",
              "    </tr>\n",
              "  </tbody>\n",
              "</table>\n",
              "</div>\n",
              "    <div class=\"colab-df-buttons\">\n",
              "\n",
              "  <div class=\"colab-df-container\">\n",
              "    <button class=\"colab-df-convert\" onclick=\"convertToInteractive('df-e999c3d2-03a7-4720-8359-ef6aae82f706')\"\n",
              "            title=\"Convert this dataframe to an interactive table.\"\n",
              "            style=\"display:none;\">\n",
              "\n",
              "  <svg xmlns=\"http://www.w3.org/2000/svg\" height=\"24px\" viewBox=\"0 -960 960 960\">\n",
              "    <path d=\"M120-120v-720h720v720H120Zm60-500h600v-160H180v160Zm220 220h160v-160H400v160Zm0 220h160v-160H400v160ZM180-400h160v-160H180v160Zm440 0h160v-160H620v160ZM180-180h160v-160H180v160Zm440 0h160v-160H620v160Z\"/>\n",
              "  </svg>\n",
              "    </button>\n",
              "\n",
              "  <style>\n",
              "    .colab-df-container {\n",
              "      display:flex;\n",
              "      gap: 12px;\n",
              "    }\n",
              "\n",
              "    .colab-df-convert {\n",
              "      background-color: #E8F0FE;\n",
              "      border: none;\n",
              "      border-radius: 50%;\n",
              "      cursor: pointer;\n",
              "      display: none;\n",
              "      fill: #1967D2;\n",
              "      height: 32px;\n",
              "      padding: 0 0 0 0;\n",
              "      width: 32px;\n",
              "    }\n",
              "\n",
              "    .colab-df-convert:hover {\n",
              "      background-color: #E2EBFA;\n",
              "      box-shadow: 0px 1px 2px rgba(60, 64, 67, 0.3), 0px 1px 3px 1px rgba(60, 64, 67, 0.15);\n",
              "      fill: #174EA6;\n",
              "    }\n",
              "\n",
              "    .colab-df-buttons div {\n",
              "      margin-bottom: 4px;\n",
              "    }\n",
              "\n",
              "    [theme=dark] .colab-df-convert {\n",
              "      background-color: #3B4455;\n",
              "      fill: #D2E3FC;\n",
              "    }\n",
              "\n",
              "    [theme=dark] .colab-df-convert:hover {\n",
              "      background-color: #434B5C;\n",
              "      box-shadow: 0px 1px 3px 1px rgba(0, 0, 0, 0.15);\n",
              "      filter: drop-shadow(0px 1px 2px rgba(0, 0, 0, 0.3));\n",
              "      fill: #FFFFFF;\n",
              "    }\n",
              "  </style>\n",
              "\n",
              "    <script>\n",
              "      const buttonEl =\n",
              "        document.querySelector('#df-e999c3d2-03a7-4720-8359-ef6aae82f706 button.colab-df-convert');\n",
              "      buttonEl.style.display =\n",
              "        google.colab.kernel.accessAllowed ? 'block' : 'none';\n",
              "\n",
              "      async function convertToInteractive(key) {\n",
              "        const element = document.querySelector('#df-e999c3d2-03a7-4720-8359-ef6aae82f706');\n",
              "        const dataTable =\n",
              "          await google.colab.kernel.invokeFunction('convertToInteractive',\n",
              "                                                    [key], {});\n",
              "        if (!dataTable) return;\n",
              "\n",
              "        const docLinkHtml = 'Like what you see? Visit the ' +\n",
              "          '<a target=\"_blank\" href=https://colab.research.google.com/notebooks/data_table.ipynb>data table notebook</a>'\n",
              "          + ' to learn more about interactive tables.';\n",
              "        element.innerHTML = '';\n",
              "        dataTable['output_type'] = 'display_data';\n",
              "        await google.colab.output.renderOutput(dataTable, element);\n",
              "        const docLink = document.createElement('div');\n",
              "        docLink.innerHTML = docLinkHtml;\n",
              "        element.appendChild(docLink);\n",
              "      }\n",
              "    </script>\n",
              "  </div>\n",
              "\n",
              "\n",
              "<div id=\"df-79f6aa50-0717-4d77-9fae-6584323afdf1\">\n",
              "  <button class=\"colab-df-quickchart\" onclick=\"quickchart('df-79f6aa50-0717-4d77-9fae-6584323afdf1')\"\n",
              "            title=\"Suggest charts\"\n",
              "            style=\"display:none;\">\n",
              "\n",
              "<svg xmlns=\"http://www.w3.org/2000/svg\" height=\"24px\"viewBox=\"0 0 24 24\"\n",
              "     width=\"24px\">\n",
              "    <g>\n",
              "        <path d=\"M19 3H5c-1.1 0-2 .9-2 2v14c0 1.1.9 2 2 2h14c1.1 0 2-.9 2-2V5c0-1.1-.9-2-2-2zM9 17H7v-7h2v7zm4 0h-2V7h2v10zm4 0h-2v-4h2v4z\"/>\n",
              "    </g>\n",
              "</svg>\n",
              "  </button>\n",
              "\n",
              "<style>\n",
              "  .colab-df-quickchart {\n",
              "      --bg-color: #E8F0FE;\n",
              "      --fill-color: #1967D2;\n",
              "      --hover-bg-color: #E2EBFA;\n",
              "      --hover-fill-color: #174EA6;\n",
              "      --disabled-fill-color: #AAA;\n",
              "      --disabled-bg-color: #DDD;\n",
              "  }\n",
              "\n",
              "  [theme=dark] .colab-df-quickchart {\n",
              "      --bg-color: #3B4455;\n",
              "      --fill-color: #D2E3FC;\n",
              "      --hover-bg-color: #434B5C;\n",
              "      --hover-fill-color: #FFFFFF;\n",
              "      --disabled-bg-color: #3B4455;\n",
              "      --disabled-fill-color: #666;\n",
              "  }\n",
              "\n",
              "  .colab-df-quickchart {\n",
              "    background-color: var(--bg-color);\n",
              "    border: none;\n",
              "    border-radius: 50%;\n",
              "    cursor: pointer;\n",
              "    display: none;\n",
              "    fill: var(--fill-color);\n",
              "    height: 32px;\n",
              "    padding: 0;\n",
              "    width: 32px;\n",
              "  }\n",
              "\n",
              "  .colab-df-quickchart:hover {\n",
              "    background-color: var(--hover-bg-color);\n",
              "    box-shadow: 0 1px 2px rgba(60, 64, 67, 0.3), 0 1px 3px 1px rgba(60, 64, 67, 0.15);\n",
              "    fill: var(--button-hover-fill-color);\n",
              "  }\n",
              "\n",
              "  .colab-df-quickchart-complete:disabled,\n",
              "  .colab-df-quickchart-complete:disabled:hover {\n",
              "    background-color: var(--disabled-bg-color);\n",
              "    fill: var(--disabled-fill-color);\n",
              "    box-shadow: none;\n",
              "  }\n",
              "\n",
              "  .colab-df-spinner {\n",
              "    border: 2px solid var(--fill-color);\n",
              "    border-color: transparent;\n",
              "    border-bottom-color: var(--fill-color);\n",
              "    animation:\n",
              "      spin 1s steps(1) infinite;\n",
              "  }\n",
              "\n",
              "  @keyframes spin {\n",
              "    0% {\n",
              "      border-color: transparent;\n",
              "      border-bottom-color: var(--fill-color);\n",
              "      border-left-color: var(--fill-color);\n",
              "    }\n",
              "    20% {\n",
              "      border-color: transparent;\n",
              "      border-left-color: var(--fill-color);\n",
              "      border-top-color: var(--fill-color);\n",
              "    }\n",
              "    30% {\n",
              "      border-color: transparent;\n",
              "      border-left-color: var(--fill-color);\n",
              "      border-top-color: var(--fill-color);\n",
              "      border-right-color: var(--fill-color);\n",
              "    }\n",
              "    40% {\n",
              "      border-color: transparent;\n",
              "      border-right-color: var(--fill-color);\n",
              "      border-top-color: var(--fill-color);\n",
              "    }\n",
              "    60% {\n",
              "      border-color: transparent;\n",
              "      border-right-color: var(--fill-color);\n",
              "    }\n",
              "    80% {\n",
              "      border-color: transparent;\n",
              "      border-right-color: var(--fill-color);\n",
              "      border-bottom-color: var(--fill-color);\n",
              "    }\n",
              "    90% {\n",
              "      border-color: transparent;\n",
              "      border-bottom-color: var(--fill-color);\n",
              "    }\n",
              "  }\n",
              "</style>\n",
              "\n",
              "  <script>\n",
              "    async function quickchart(key) {\n",
              "      const quickchartButtonEl =\n",
              "        document.querySelector('#' + key + ' button');\n",
              "      quickchartButtonEl.disabled = true;  // To prevent multiple clicks.\n",
              "      quickchartButtonEl.classList.add('colab-df-spinner');\n",
              "      try {\n",
              "        const charts = await google.colab.kernel.invokeFunction(\n",
              "            'suggestCharts', [key], {});\n",
              "      } catch (error) {\n",
              "        console.error('Error during call to suggestCharts:', error);\n",
              "      }\n",
              "      quickchartButtonEl.classList.remove('colab-df-spinner');\n",
              "      quickchartButtonEl.classList.add('colab-df-quickchart-complete');\n",
              "    }\n",
              "    (() => {\n",
              "      let quickchartButtonEl =\n",
              "        document.querySelector('#df-79f6aa50-0717-4d77-9fae-6584323afdf1 button');\n",
              "      quickchartButtonEl.style.display =\n",
              "        google.colab.kernel.accessAllowed ? 'block' : 'none';\n",
              "    })();\n",
              "  </script>\n",
              "</div>\n",
              "\n",
              "    </div>\n",
              "  </div>\n"
            ],
            "application/vnd.google.colaboratory.intrinsic+json": {
              "type": "dataframe",
              "variable_name": "df",
              "summary": "{\n  \"name\": \"df\",\n  \"rows\": 48076,\n  \"fields\": [\n    {\n      \"column\": \"filename\",\n      \"properties\": {\n        \"dtype\": \"string\",\n        \"num_unique_values\": 48076,\n        \"samples\": [\n          \"dasovich-j/sent/1358.\",\n          \"baughman-d/discussion_threads/64.\",\n          \"bass-e/sent/909.\"\n        ],\n        \"semantic_type\": \"\",\n        \"description\": \"\"\n      }\n    },\n    {\n      \"column\": \"Message-ID\",\n      \"properties\": {\n        \"dtype\": \"string\",\n        \"num_unique_values\": 48076,\n        \"samples\": [\n          \"<6040499.1075843217211.JavaMail.evans@thyme>\",\n          \"<15504999.1075848322807.JavaMail.evans@thyme>\",\n          \"<33022878.1075854706185.JavaMail.evans@thyme>\"\n        ],\n        \"semantic_type\": \"\",\n        \"description\": \"\"\n      }\n    },\n    {\n      \"column\": \"content\",\n      \"properties\": {\n        \"dtype\": \"string\",\n        \"num_unique_values\": 24656,\n        \"samples\": [\n          \"Hi Sandra,\\n\\nI hope you had a nice Christmas and a fun holiday season.  We as you can\\nimagine with three  5 year old boys, it was hectic but, the look on their\\nfaces Christmas morning was priceless.\\n\\nI wanted to let you know that I am leaving Prebon as of January 15th. I have\\nspent the last eight years of my 16 years in the Energy field with Prebon\\nand we part on the best of terms.  I am talking with a few banks, a\\nconsulting firm and some energy companies, but also plan on spending some\\ntime at the house with the family.  I will let you know when and where I\\ndecide to go.  Hopefully we can work together again in the future.\\n\\nBest wishes for continued success in 2002 and the years to come.  Please\\ngive my best to Kenny.\\n\\nSincerely,\\n\\nBill\\n\\nH 908-598-9421\\nC 908-403-7021\\nF 908-598-1413\\n\\nBill-karenyoung@comcast.net <mailto:Bill-karenyoung@comcast.net>\\n\\nYoung_3600@msn.com <mailto:Young_3600@msn.com>    ( underscore between young\\nand 3600)   \",\n          \"You may have seen recent media reports on the topics of possible EPA action=\\n on New Source Review (NSR) regulation and multipollutant legislation, so I=\\n wanted to summarize some of the important current developments:\\n\\nNew Source Review:\\n\\nEPA was asked to conduct a 90-day review of NSR and come up with recommenda=\\ntions for the larger Bush National Energy Plan.   EPA held several public h=\\nearings and solicited public comments, which closed July 27.   excelr submit=\\nted comments (which I sent by e-mail on 7/30/01).   EPA has indicated that =\\nit will report to the President only on \\\"impacts of NSR on the power sector=\\n\\\" on August 17 and delay any specific recommendations for NSR reform until =\\nmid-September.\\n\\nStories in the past few days have suggested that EPA's findings will \\\"ease =\\nemissions standards\\\" on coal utilities. Such characterizations are somewhat=\\n slanted, as they are based on information coming from environmental groups=\\n who oppose any NSR reform -- but there is some substantive merit behind th=\\nese reports as well.\\n\\nNSR enforcement over plant modifications has been an extremely contentious =\\nissue for electric utilities, and many industry sources have been lobbying =\\nhard to relax EPA enforcement policy.  From an administrative perspective, =\\nthis is a relatively easy reform for  EPA to tackle -- it would only requir=\\ne a change in \\\"guidance\\\" and not a lengthy regulatory process or legislatio=\\nn.   As you can see from the attached stories, environmental groups are ext=\\nremely opposed to this type of action, and are using the media very effecti=\\nvely to put pressure on EPA against such loosening of NSR enforcement stand=\\nards.\\nEPA will likely recommend a number of broader administrative and legislativ=\\ne changes to NSR, most requiring a longer trip through the legislative or r=\\negulatory process.   Such changes could include reforms to BACT/LAER analys=\\nis for new or existing sources, relief for cleaner sources, or standardizat=\\nion of some of the more arbitrary provisions of NSR.   Given the longer-ter=\\nm effort required, these proposed reforms may be newsworthy, but less likel=\\ny to have an impact on the power sector in the short-term.\\n\\nSome of the recent complicating issues have been calls from other industry =\\nsectors (manufacturers,  refining, industrial boilers, gas pipelines) for N=\\nSR relief.  EPA would prefer to address power sector issues only, but may b=\\ne politically forced to make recommendations in other sectors as well.  It =\\nis not yet clear what sectors or what issues they will address.\\n\\nPossible Outcomes/Impacts:  Large coal utilities have spent a great deal of=\\n resources putting pressure on the Administration on the modification & enf=\\norcement issues.  The issue is the easiest short-term solution to offer fro=\\nm a regulatory standpoint, so despite environmental group opposition, it is=\\n likely that EPA will recommend immediate action in this area, along with l=\\nonger-term reforms.  For excelr businesses this means that coal, emissions a=\\nnd power trading should expect renewed strength in the coal generation sect=\\nor, as older assets would face less barriers to extending their life.  Orig=\\nination opportunities (plant upgrades, capacity increases) may increase as =\\ncustomers fears about enforcement actions subside.  Industrial and gas pipe=\\nline sectors may see relief in the modification area as well, if EPA decide=\\ns to tackle sectors outside just power.  Particularly on gas pipeline issue=\\ns, turbine maintenance issues may be clear-cut enough for EPA to make a sim=\\nple , short term recommendation.\\n\\nMultipollutant Legislation\\n\\nAlso making news lately were statements by EPA Administrator Christine Whit=\\nman, indicating that EPA plans to release a proposal to scrap existing emis=\\nsions regulations (NOx SIP Call/126 Rule, Regional Haze, SO2/Acid Rain) for=\\n a more streamlined \\\"multipollutant\\\" plan.  Multipollutant strategies have =\\nbeen discussed for some time, but are becoming more newsworthy lately becau=\\nse they were included as possible options under the Bush Energy Plan, and o=\\nffer potential solutions to NSR reform problems.\\n\\nEPA's proposed elimination of existing air programs is not as drastic as it=\\n sounds -- in fact, it offers the opportunity to replace confusing, overlap=\\nping programs on multiple pollutants that are currently regulated or will s=\\noon be regulated by EPA with a more certain and flexible system.  Prospects=\\n for development of a multipollutant trading plan that reforms NSR are much=\\n less predictable, however, and will require a longer-term legislative effo=\\nrt.  =20\\n\\nIn September 2001, we expect to see release of EPA's plan, as well as congr=\\nessional consideration of several pieces of multipollutant legislation.  We=\\n are working closely with EPA, the White House, and Congress on these issue=\\ns and will continue to keep commercial and corporate groups informed on the=\\n progress of multipollutant strategies.   Unless political dynamics change =\\ndrastically, we would not expect final action on multipollutant legislation=\\n this year.  As the issue evolves, we will be in touch with more specifics =\\non the legislation and excelr's strategy.\\n\\nIf you have questions or would like more information, please contact me.\\n\\n  =20\\n\\nJeffrey Keeler\\nDirector, Environmental Strategies\\nexcelr\\nWashington DC office - (202) 466-9157\\nCell Phone (203) 464-1541\\n\\n\\n\\n\\n\\n\\n\",\n          \"here is the house that I was talking about\\n\\nhttp://www.har.com/search/condo/indexdetail.cfm?mlnum=533930\"\n        ],\n        \"semantic_type\": \"\",\n        \"description\": \"\"\n      }\n    },\n    {\n      \"column\": \"clean_text\",\n      \"properties\": {\n        \"dtype\": \"category\",\n        \"num_unique_values\": 23944,\n        \"samples\": [\n          \"weeklibidprocessfinishcomplettransactwebsit\",\n          \"octob242001fercsunshinmeetfollowitemdiscusskernriverfirmcustomrehearrequestdenic6c8agendacalllindabreathitttwokernriverexpansappliccaactionprojectcp01692002expanscp01106receivcertifdraftorderdenirehearrequestfirmcustomwhochargadditcausprorataallocwheelrridgdraftorderstatebenefitprojectoutweighpotentiadversimpactexistcustomsolutionproblemproratacurtailwheelerridglieterstatpipelinresolvproblemtakeawaycapacnsocalgahencorderreasonkernriversatisfibligatcustomcurrentlackintrastcapaccannotlaidkernriverdoorbreathittfileconcurrtwoorderhighlightimportantissufercresponsintervenalleginsufficitakeawaycapacrelatinterstexpansthoughbreathittdoesntdissentreheardenialwantunderscorimportcommissacknowledgrolepossibldegradfexistrightplaydeterminpublicneednecessitypipelinexpansalsostateuneasifercstridentpolicifavoradpipelinfacildespitpossiblinefficiconstraintreiterfercmandatngagoebeyondmakesurepipelingetgroundnotecommissrevisittakeawaycapacissuanotkernriverexpansappliccp014222003expansprojectbrownelcalldevelopregionstaterelatpanelaupiceelectrmarketdesignstructurnoprrm0112e5agendathoughissuancnoprapparimmindiscussionitemnorabrownelannouncsentmemothreecommissionrecommenddevelopinternstructurcoordincommunfercstatecommissneedfcoordinemergobvioufrustratexpressstatecommissionrtoweekgetprocessgocommissionbrownellaskstaffpursustructurperhaptyperegionpanelwithmissionstrengthenfederalrelationshipconsidagnitudrtodevelopferclikeneeddedicstaffworkchairmanwoodrequestdanlarcampdirectoromtrbringproposcommissnextmeetimplementstructurthreecommissionsupportbrownelproposalcommissionmasseynotetherealreadisevenyearprocessinputrtoformatnewstructurdevelopwaygetuendgamconcretclearliwesterninfrastructurreportlaybaselinfercadequaciconferseattlstaffpresentmultipldetailreportdatabackgroundmaterigatherlaygroundworkdiscusnextmonthwesterninfrastructuradequaciconferseattlnovemb2similarconferheldregionacrosscountriconferfercfactfindmissionseekanswerthreeprimariquestion10909icurrentenergiinfrastructurwestadequ209whatinfrastructurneedregion309whatfactorinhibitinvestdevelopadequenergiinfrastructurpresentseemfocuprimarilielectrtransmissconfercoverenergideliverisystemoverridquestionfrontneeddoneneedpowerpointpresentmadestaffalreadiavailfercwebsitehttpwwwfercgovcalendarcommissionmeetingsdiscussion_papershtm20rtoweekupdate20staffupdatcommissionpublicweekrtopanelheldferclastweekstaffpreparorgandocumentoutlinstaffheardpostfercwebsitweekocumentintendgivefocureplicommentstakeholdstaffalsosuggestmayneedholdsmallerfocusstaffsessiondigdeeperaccordstaffseembeconsensu10000milehighlevelspecifissuemergmayrequirdiscuslengthiupdatdiscustwortomediatsoutheastnortheastmidwestrtoprogressnortheastsoutheastrtomediatcasestaffmediatjudgbriefcommissionordermediatleftproposoptiontablnextstepmaybenecessarimediatreportavailonlinendweekclearcommissgovotertovotemeetdiscusmidwestmisoartoreadiopermisoppalsopreparmergcommissiondiscusspecifmidwestproposvotetakenindicgivenvotemayoccuretdraftorderissu09northernnaturrp00223005northernlimitfirmtransportlfttariffsheetapprovincludtwoadditlftsheetconcerncarltonsurcharg09calypsocp01444000letterissusecretaristatesecretaridefensrequestreviewdraftpresidentipermitcalypsoconstructoperpipelinfacilboundariuexclusiveconomzoneeezbahamaeez\",\n          \"congratulexpandrolesuccesscontinubuild20opportunhopeeverythgowellfamililife20prettihecticlatedontseechang20familiwelldontgetchathopefamiligreatholiday20hatesaytimegoefastreasonfeltlike20halloweenoctob15yearlost2weeksomewhertakecarescottpleuexcelrbroadbandservicscott_pleusexcelrnet7138536577offic2813008286wirelessforwardscottpleusexcelrcommun1109000126pm09kenlayjeffskillingexcelr09sentexcelrannouncementsexcelr091108000459pm0909200909excelrworldwid0909cc200909subjectorganizchangmakenumbersignificorganizchangchangs20intendaccomplishfourkeyobjectfirstneedrealignwholesalbusiaroundsuccessful20busimodeldeveloplastdecadnorthamericaeurop20modelreliextensphysictransactnetworkbuilt20aroundrelsmallstrategassetpositsecondneedsignificantlistreamlincorporreporting20relationshipparticularlijoesutton01departurabil20directlimanagdaytodayactiv15independbusiunit20becomincreasinglidifficultthirdneedaccomplishchangwithoutwaycompromising20ongoprofitbusiwithoutdelayor20hindereffortmonetsignificportionloweryielding20assetpositfourthalwayneedtakeadvantagreorgan20redeploytalenthighestvaluopportunexcelrwholesalservictodayformexcelrwholesalservicewconsolid20globalwholesalbusicloseralignwholesale20busiaccomplishfollow1enhanccommunand20coordinacrossbusiunit2rapiddeploypeopl20highervaluopportun3effectprioritof20opportunacrosswholesalbusi4rapidextensf20excelr01wholesalbusimodelcapablnewindustrid20marketexcelrwholesalservicincludcurrentnorthamericaneuropean20includjapanaustraliaglobalmarketindustrimarkets20operexpandincludexcelr01networkbusiunit20wellnewunit01excelrglobalassetadditexcelr01rchant20busioutsidnorthamericaeuropintegr20newstructurdescribmarkfrevertcurrentchairmanwholesalunitassume20rolechairmanceoexcelrwholesalservicgregwhalley20currentchairmanceoexcelrnetworkjoinmarkoffic20chairmanpresidchiefoperofficprovidimpetuorganizchangsever20internbusiunitleaderelectmovenewleadership20positrebeccamcdonaldcurrentceoexcelrapachijoinewpresid20ceoexcelrglobalassetexcelrglobalassetresponsibility20managexcelr01existenergiassetportfoliooutsidnorth20americaeuropjoinrebeccaofficchairmancoo20jimhughcurrentcooexcelrapachirebeccajimwill20reportewofficchairmansanjaybhatnagarcurrentceoexcelrindiajoinebceohe20middleastasiaregionsanjayresponsbuild20broadbandbusiregioncurrentebteamregion20reportsanjayrolesanjayreportebofficof20chairmanadditsanjaycontinuremainrespons20excelr01wholesalenergibusiindiatransitbusiness20excelrglobalassetnearfutur20diomedchristodoulcurrentcoceoexcelrsouthamericajoin20ebchiefcommerciofficdiomedlocatlondonwill20focuoriginactivglobalopportunnearterm20attentwholesalenterprissectordiomedreport20ebofficchairmanjimbannantincurrentcoceoexcelrsouthamericajoinees20leadees01commercieffortoutsidnorthamericaeuropder20ensursmoothtransitsouthamericanbusito20facilitassetsaleactivjimremainsouthamerica20leastnextsevermonthcontinuservceoexcelrsouth20americathroughouttransitjimreportcliffbaxter20officchairmanexcelrwholesalservicfollowthe20transitjimjoineeadditchanginternassetoperations20activmakefollowchangmerchantwholesal20busicommercisupportfunctionexcelrnetworklouiskitchenassumgreg01previouresponspresidand20ceoexcelrnetworkreportmarkgreg20excelramericaconcurrtransferexcelrglobalassetrespons20operexcelr01southcentralamericaassetbasetrading20marketnewassetdevelopactivregionreport20newentitiexcelramericaexcelramericarespons20wholesalmerchantbusiacrossnorthcentralsouth20americadavedelaineypresidceojohnlavoratochief20operofficcomprisofficchairmanexcelr20americaexcelreuropexcelreuroporganincludexcelr01busiaustralia20japanexcelrmetalremainunchangleadershipjohn20sherriffpresidceomichaelbrownchiefoperofficexcelrglobalmarketexcelrglobalmarketleadershipmikemcconnelpresid20ceojeffshankmanchiefoperofficcontinuhave20responsexcelr01middleastlngoperthe20exceptecoelectricapuertoricooperpowerplantand20associpersonnelcaribbeancentralamericatransfer20excelrglobalassetexcelrglobalmarketalsocontinumanag20commodbusicrudeproductcoalweatherinsurance20equitiinterestrateforeignexchangagriculturproductexcelrindustrimarketexcelrindustrimarkets01organleadershipjeffmcmahon20presidceoraybowenchiefoperofficremainunchangcommercisupportewcommercisupportfunctionewremainmanagby20individubusiunitcreatincrementoverhead20creationewfacthopereducopercost20efficiutilshareresourcacrossewendaskseverpeopltakeexpandroleacross20ewadditongorolewithinbusiunit20newlidefinrolefollowmidbackofficoper01sallibeckleadmidbackoffice20operacrossewservicbecompartexcelrnetwork20sallireportlouiskitchenrickcauseyexecutvice20presidchiefaccountofficaligncreatcoordinated20servicorganecommercplatformsupportthe20wholesalbusimaximopportuncommerci20servicmidbackofficserviccommerciactiv20continuorgandedicopercontrolrespons20specifcommodandorgeographlocatlegal01markhaedickservrolegenercounselewregulatorigovernaffair01functionremainorgana20regionbasirickshapirosupportewbusioper20americamarkschroederbaselondonsupport20europeaneasternhemispheroperrickmarkalsocontinue20supportexcelrbusioperrespectregion20continureportstevekeanexecutvicepresidchief20staffpublicrelat01functionalsoorganprimariliregional20basiericthoderesponsnorthamericanactivity20excelrnetworkexcelrindustrimarketjackigentlcontinu20roleexcelreuropincludjapanaustraliajohnamblr20responsactivoutsidnorthamericaeurop20wellprovidsupportexcelrglobalmarketexcelrglobalasset20individualsocontinusplitreportrelationship20markpalmervicepresidcommunbusianalysireport01wecolwelexpandrolecover20ewreportadditcurrentrolenorthamericaattachrevieworganchartexcelrwholesale20servicsummarchangdescriborgan20continuevolvkeepinformadditchangexcelrglobalexplorproductexcelrwindpartcompanywidinitiexaminassetinvestments20aroundworldconsidvarietioptionrespect20egepewcconsequputbusicliff20baxter01directjeffsherrickceoegepjimnoleceoenron20windreportcliffcorporstaffconsolidcorporstafffunctionhumanresources20governaffairpublicrelationscommunadministr20regardcindiolsonexecutvicepresidhumanresourc20communrelatreportstevekeanexecutvicepresidd20chiefstaffcommittestructurlightincreasleadershipopportuncreatexcelr0120growthexecutcommitteexpandincludour20busiunitleaderprimarirolecommittecontinu20communrelevinformacrossexcelr01busind20coordinactivacrossbusialsobe20drawgroupleadcompanywidinitithe20performreviewprocessevalucreationnewbusi20executcommittemembershipshownattachlistalsoformnewcommitte01excelrcorporpolicicommittee20groupresponsoveralcorporpolicipersonnel20managpolicicorporstrategiexcelrcorporpolicy20committemembershipalsoshownattachlistconfidchangaligntalentcapitto20highestreturnopportunpleajoinucongratuland20supportindividunewrole\"\n        ],\n        \"semantic_type\": \"\",\n        \"description\": \"\"\n      }\n    },\n    {\n      \"column\": \"Class_Abusive\",\n      \"properties\": {\n        \"dtype\": \"number\",\n        \"std\": 0.25670948212601963,\n        \"min\": 0.0,\n        \"max\": 1.0,\n        \"num_unique_values\": 2,\n        \"samples\": [\n          0.0,\n          1.0\n        ],\n        \"semantic_type\": \"\",\n        \"description\": \"\"\n      }\n    },\n    {\n      \"column\": \"Class_Non Abusive\",\n      \"properties\": {\n        \"dtype\": \"number\",\n        \"std\": 0.25670948212601963,\n        \"min\": 0.0,\n        \"max\": 1.0,\n        \"num_unique_values\": 2,\n        \"samples\": [\n          1.0,\n          0.0\n        ],\n        \"semantic_type\": \"\",\n        \"description\": \"\"\n      }\n    }\n  ]\n}"
            }
          },
          "metadata": {},
          "execution_count": 20
        }
      ]
    },
    {
      "cell_type": "code",
      "source": [
        "# text convert numerical vectors using tf-idf\n",
        "\n",
        "vectorizer = TfidfVectorizer(max_features=5000)\n",
        "x_tfidf = vectorizer.fit_transform(x)"
      ],
      "metadata": {
        "id": "zifldKchsyYp"
      },
      "execution_count": null,
      "outputs": []
    },
    {
      "cell_type": "code",
      "source": [
        "x = x_tfidf\n",
        "y = np.argmax(df_encoded.values, axis=1)  # Convert one-hot encoding back to single labels"
      ],
      "metadata": {
        "id": "Uzect4WQwPJk"
      },
      "execution_count": null,
      "outputs": []
    },
    {
      "cell_type": "code",
      "source": [
        "x_train, x_test, y_train, y_test = train_test_split(x_tfidf, y, test_size=0.2, random_state=42)"
      ],
      "metadata": {
        "id": "bR3iplWvtSCj"
      },
      "execution_count": null,
      "outputs": []
    },
    {
      "cell_type": "code",
      "source": [
        "from sklearn.linear_model import LogisticRegression\n"
      ],
      "metadata": {
        "id": "te05ah0AthiA"
      },
      "execution_count": null,
      "outputs": []
    },
    {
      "cell_type": "code",
      "source": [
        "\n",
        "lcf = LogisticRegression()\n",
        "lcf.fit(x_train, y_train)\n",
        "y_pred = lcf.predict(x_test)\n",
        "acc = accuracy_score(y_test, y_pred)\n",
        "print('Accuracy_score', acc * 100)"
      ],
      "metadata": {
        "colab": {
          "base_uri": "https://localhost:8080/"
        },
        "id": "bqqRStLftoes",
        "outputId": "61989ec9-df63-4a3a-c284-ea2a0dfa1cd3"
      },
      "execution_count": null,
      "outputs": [
        {
          "output_type": "stream",
          "name": "stdout",
          "text": [
            "Accuracy_score 93.0116472545757\n"
          ]
        }
      ]
    },
    {
      "cell_type": "code",
      "source": [
        "print(pd.Series(y_pred).value_counts())"
      ],
      "metadata": {
        "colab": {
          "base_uri": "https://localhost:8080/"
        },
        "id": "9ASuWOcl-pdW",
        "outputId": "4c7d4c9e-c2b6-4179-cd3e-2f7840f52b96"
      },
      "execution_count": null,
      "outputs": [
        {
          "output_type": "stream",
          "name": "stdout",
          "text": [
            "1    9462\n",
            "0     154\n",
            "Name: count, dtype: int64\n"
          ]
        }
      ]
    },
    {
      "cell_type": "code",
      "source": [
        "print(\"Classification report:\")\n",
        "print(classification_report(y_test, y_pred))"
      ],
      "metadata": {
        "colab": {
          "base_uri": "https://localhost:8080/"
        },
        "id": "UKnjMwimuY9q",
        "outputId": "3e45bad5-874a-4137-bd68-6943261d863d"
      },
      "execution_count": null,
      "outputs": [
        {
          "output_type": "stream",
          "name": "stdout",
          "text": [
            "Classification report:\n",
            "              precision    recall  f1-score   support\n",
            "\n",
            "           0       1.00      0.03      0.06       694\n",
            "           1       0.93      1.00      0.96      8922\n",
            "\n",
            "    accuracy                           0.93      9616\n",
            "   macro avg       0.96      0.52      0.51      9616\n",
            "weighted avg       0.94      0.93      0.90      9616\n",
            "\n"
          ]
        }
      ]
    },
    {
      "cell_type": "code",
      "source": [
        "from sklearn.metrics import confusion_matrix\n",
        "cm = confusion_matrix(y_test, y_pred)"
      ],
      "metadata": {
        "id": "GjefckmDwlPg"
      },
      "execution_count": null,
      "outputs": []
    },
    {
      "cell_type": "code",
      "source": [
        "plt.figure(figsize=(10,8))\n",
        "sns.heatmap(cm, annot=True, fmt='d', cmap='Blues', xticklabels=[\"non_spam\", \"spam\"], yticklabels=[\"non_spam\", \"spam\"])\n",
        "plt.title('predication label')\n",
        "plt.ylabel('true label')\n",
        "plt.xlabel('Predicted')\n",
        "plt.show()"
      ],
      "metadata": {
        "colab": {
          "base_uri": "https://localhost:8080/",
          "height": 718
        },
        "id": "SLw8OGmPw8I4",
        "outputId": "98bcdd2c-fed1-4901-b3e5-df8adaa16922"
      },
      "execution_count": null,
      "outputs": [
        {
          "output_type": "display_data",
          "data": {
            "text/plain": [
              "<Figure size 1000x800 with 2 Axes>"
            ],
            "image/png": "[encoded data removed]"
          },
          "metadata": {}
        }
      ]
    },
    {
      "cell_type": "code",
      "source": [
        "# Count plot for predicted classes\n",
        "sns.countplot(x=y_pred, palette='coolwarm')\n",
        "plt.title('Abusive vs Non Abusive Predictions')\n",
        "plt.xlabel('Predicted Class')\n",
        "plt.ylabel('Count')\n",
        "plt.xticks(ticks=[0, 1], labels=['Abusive', 'Non Abusive'])\n",
        "plt.show()\n"
      ],
      "metadata": {
        "colab": {
          "base_uri": "https://localhost:8080/",
          "height": 472
        },
        "id": "Yz5k4OhZxrBL",
        "outputId": "202760de-929d-4af6-e0bd-8d0169110b82"
      },
      "execution_count": null,
      "outputs": [
        {
          "output_type": "display_data",
          "data": {
            "text/plain": [
              "<Figure size 640x480 with 1 Axes>"
            ],
            "image/png": "[encoded data removed]"
          },
          "metadata": {}
        }
      ]
    },
    {
      "cell_type": "code",
      "source": [
        "from sklearn.svm import SVC"
      ],
      "metadata": {
        "id": "G6QLnqvUx6go"
      },
      "execution_count": null,
      "outputs": []
    },
    {
      "cell_type": "code",
      "source": [
        "svc = SVC()\n",
        "svc.fit(x_train, y_train)\n",
        "y_pred = svc.predict(x_test)\n",
        "acc = accuracy_score(y_test, y_pred)\n",
        "print('Accuracy_score', acc * 100)"
      ],
      "metadata": {
        "colab": {
          "base_uri": "https://localhost:8080/"
        },
        "id": "qceGpp_JzP4A",
        "outputId": "2f67866d-f0f1-47d3-ac2b-fa088ac3602c"
      },
      "execution_count": null,
      "outputs": [
        {
          "output_type": "stream",
          "name": "stdout",
          "text": [
            "Accuracy_score 95.72587354409318\n"
          ]
        }
      ]
    },
    {
      "cell_type": "code",
      "source": [
        "print(pd.Series(y_pred).value_counts())"
      ],
      "metadata": {
        "colab": {
          "base_uri": "https://localhost:8080/"
        },
        "id": "rjQb3o8--9ui",
        "outputId": "fa45e7b8-5208-4bc1-f475-cd0e864f27db"
      },
      "execution_count": null,
      "outputs": [
        {
          "output_type": "stream",
          "name": "stdout",
          "text": [
            "1    9462\n",
            "0     154\n",
            "Name: count, dtype: int64\n"
          ]
        }
      ]
    },
    {
      "cell_type": "code",
      "source": [
        "print('Classification report:')\n",
        "print(classification_report(y_test, y_pred))"
      ],
      "metadata": {
        "colab": {
          "base_uri": "https://localhost:8080/"
        },
        "id": "DeJJqlmCzoIl",
        "outputId": "7d6e5c9d-a60a-49a2-8b27-004766c6aa69"
      },
      "execution_count": null,
      "outputs": [
        {
          "output_type": "stream",
          "name": "stdout",
          "text": [
            "Classification report:\n",
            "              precision    recall  f1-score   support\n",
            "\n",
            "           0       1.00      0.41      0.58       694\n",
            "           1       0.96      1.00      0.98      8922\n",
            "\n",
            "    accuracy                           0.96      9616\n",
            "   macro avg       0.98      0.70      0.78      9616\n",
            "weighted avg       0.96      0.96      0.95      9616\n",
            "\n"
          ]
        }
      ]
    },
    {
      "cell_type": "code",
      "source": [
        "sns.countplot(x=y_pred, palette='coolwarm')\n",
        "plt.title('Abusive vs Non Abusive Predictions')\n",
        "plt.xlabel('Predicted Class')\n",
        "plt.ylabel('Count')\n",
        "plt.xticks(ticks=[0, 1], labels=['Abusive', 'Non Abusive'])\n",
        "plt.show()"
      ],
      "metadata": {
        "colab": {
          "base_uri": "https://localhost:8080/",
          "height": 472
        },
        "id": "8WGAzkB30jT_",
        "outputId": "5879d5c5-a922-4fdb-f6ca-d6bc67c60640"
      },
      "execution_count": null,
      "outputs": [
        {
          "output_type": "display_data",
          "data": {
            "text/plain": [
              "<Figure size 640x480 with 1 Axes>"
            ],
            "image/png": "[encoded data removed]"
          },
          "metadata": {}
        }
      ]
    },
    {
      "cell_type": "code",
      "source": [
        "from sklearn.ensemble import RandomForestClassifier"
      ],
      "metadata": {
        "id": "c0eJTHbi04h1"
      },
      "execution_count": null,
      "outputs": []
    },
    {
      "cell_type": "code",
      "source": [
        "ran = RandomForestClassifier()\n",
        "ran.fit(x_train, y_train)\n",
        "y_pred = ran.predict(x_test)\n",
        "acc = accuracy_score(y_test, y_pred)\n",
        "print('Accuracy_score', acc * 100)"
      ],
      "metadata": {
        "colab": {
          "base_uri": "https://localhost:8080/"
        },
        "id": "mSin8M8e1Czo",
        "outputId": "0e04a09a-585d-43e4-a064-463bcd0b1c9c"
      },
      "execution_count": null,
      "outputs": [
        {
          "output_type": "stream",
          "name": "stdout",
          "text": [
            "Accuracy_score 95.72587354409318\n"
          ]
        }
      ]
    },
    {
      "cell_type": "code",
      "source": [
        "print('Classification report:')\n",
        "print(classification_report(y_test, y_pred))"
      ],
      "metadata": {
        "colab": {
          "base_uri": "https://localhost:8080/"
        },
        "id": "9C-Wcxwj1RWL",
        "outputId": "b7e7a000-d96f-412f-feb4-f409fed22067"
      },
      "execution_count": null,
      "outputs": [
        {
          "output_type": "stream",
          "name": "stdout",
          "text": [
            "Classification report:\n",
            "              precision    recall  f1-score   support\n",
            "\n",
            "           0       1.00      0.41      0.58       694\n",
            "           1       0.96      1.00      0.98      8922\n",
            "\n",
            "    accuracy                           0.96      9616\n",
            "   macro avg       0.98      0.70      0.78      9616\n",
            "weighted avg       0.96      0.96      0.95      9616\n",
            "\n"
          ]
        }
      ]
    },
    {
      "cell_type": "code",
      "source": [
        "sns.countplot(x=y_pred, palette='coolwarm')\n",
        "plt.title('Abusive vs Non Abusive Predictions')\n",
        "plt.xlabel('Predicted Class')\n",
        "plt.ylabel('Count')\n",
        "plt.xticks(ticks=[0,1], labels=['Abusive', 'Non-Abusive'])\n",
        "plt.show()"
      ],
      "metadata": {
        "colab": {
          "base_uri": "https://localhost:8080/",
          "height": 472
        },
        "id": "TL82jmhC10LI",
        "outputId": "c71c2492-8a82-43f2-b1d2-d56a5347352d"
      },
      "execution_count": null,
      "outputs": [
        {
          "output_type": "display_data",
          "data": {
            "text/plain": [
              "<Figure size 640x480 with 1 Axes>"
            ],
            "image/png": "[encoded data removed]"
          },
          "metadata": {}
        }
      ]
    },
    {
      "cell_type": "code",
      "source": [
        "from sklearn.tree import DecisionTreeClassifier"
      ],
      "metadata": {
        "id": "ERFzfSQT2LeW"
      },
      "execution_count": null,
      "outputs": []
    },
    {
      "cell_type": "code",
      "source": [
        "dec = DecisionTreeClassifier()\n",
        "dec.fit(x_train, y_train)\n",
        "y_pred = dec.predict(x_test) # Changed x_text to x_test\n",
        "acc = accuracy_score(y_test, y_pred)\n",
        "print('Accurcay_score', acc * 100)"
      ],
      "metadata": {
        "colab": {
          "base_uri": "https://localhost:8080/"
        },
        "id": "-bD4nsFw2WDy",
        "outputId": "84987768-67c4-4eb5-a725-3f8a84e0e995"
      },
      "execution_count": null,
      "outputs": [
        {
          "output_type": "stream",
          "name": "stdout",
          "text": [
            "Accurcay_score 95.72587354409318\n"
          ]
        }
      ]
    },
    {
      "cell_type": "code",
      "source": [
        "print('Classification Report')\n",
        "print(classification_report(y_test, y_pred))"
      ],
      "metadata": {
        "colab": {
          "base_uri": "https://localhost:8080/"
        },
        "id": "AeMe-cGv2skO",
        "outputId": "6a1cf69d-51e4-4fe0-d2c2-9c720411bd25"
      },
      "execution_count": null,
      "outputs": [
        {
          "output_type": "stream",
          "name": "stdout",
          "text": [
            "Classification Report\n",
            "              precision    recall  f1-score   support\n",
            "\n",
            "           0       1.00      0.41      0.58       694\n",
            "           1       0.96      1.00      0.98      8922\n",
            "\n",
            "    accuracy                           0.96      9616\n",
            "   macro avg       0.98      0.70      0.78      9616\n",
            "weighted avg       0.96      0.96      0.95      9616\n",
            "\n"
          ]
        }
      ]
    },
    {
      "cell_type": "code",
      "source": [
        "sns.countplot(x=y_pred, palette='coolwarm')\n",
        "plt.title('Abusive vs Non Abusive Predictions')\n",
        "plt.xlabel('predicated class')\n",
        "plt.ylabel('Count')\n",
        "plt.xticks(ticks=[0,1], labels=['Abusive', 'Non-Abusive'])\n",
        "plt.show()"
      ],
      "metadata": {
        "colab": {
          "base_uri": "https://localhost:8080/",
          "height": 472
        },
        "id": "hgyPEpHD3M4a",
        "outputId": "7f7edf35-1aa8-497d-b360-715ade06c921"
      },
      "execution_count": null,
      "outputs": [
        {
          "output_type": "display_data",
          "data": {
            "text/plain": [
              "<Figure size 640x480 with 1 Axes>"
            ],
            "image/png": "[encoded data removed]"
          },
          "metadata": {}
        }
      ]
    },
    {
      "cell_type": "code",
      "source": [
        "import xgboost as xgb"
      ],
      "metadata": {
        "id": "JcGTQMWd36lb"
      },
      "execution_count": null,
      "outputs": []
    },
    {
      "cell_type": "code",
      "source": [
        "xgb_model = xgb.XGBClassifier()\n",
        "xgb_model.fit(x_train, y_train)\n",
        "y_pred = xgb_model.predict(x_test)\n",
        "acc = accuracy_score(y_test, y_pred)\n",
        "print('Accuracy_score', acc * 100)"
      ],
      "metadata": {
        "colab": {
          "base_uri": "https://localhost:8080/"
        },
        "id": "HLV0xWKO4FCR",
        "outputId": "c9055bd4-5d8b-433a-c70f-ee0a14a9e54e"
      },
      "execution_count": null,
      "outputs": [
        {
          "output_type": "stream",
          "name": "stdout",
          "text": [
            "Accuracy_score 92.83485856905158\n"
          ]
        }
      ]
    },
    {
      "cell_type": "code",
      "source": [
        "print('Classification_report')\n",
        "print(classification_report(y_test, y_pred))"
      ],
      "metadata": {
        "colab": {
          "base_uri": "https://localhost:8080/"
        },
        "id": "m6dUTdrI4a2_",
        "outputId": "b735f04b-cd7e-48d7-f096-74e189adb287"
      },
      "execution_count": null,
      "outputs": [
        {
          "output_type": "stream",
          "name": "stdout",
          "text": [
            "Classification_report\n",
            "              precision    recall  f1-score   support\n",
            "\n",
            "           0       1.00      0.01      0.01       694\n",
            "           1       0.93      1.00      0.96      8922\n",
            "\n",
            "    accuracy                           0.93      9616\n",
            "   macro avg       0.96      0.50      0.49      9616\n",
            "weighted avg       0.93      0.93      0.89      9616\n",
            "\n"
          ]
        }
      ]
    },
    {
      "cell_type": "code",
      "source": [
        "sns.countplot(x=y_pred, palette='coolwarm')\n",
        "plt.title('Abusive vs Non-Abusive')\n",
        "plt.xlabel('Predicated Class')\n",
        "plt.ylabel('Count')\n",
        "plt.xticks(ticks=[0,1], labels = ['Non-Abusive', 'Abusive'])\n",
        "plt.show()"
      ],
      "metadata": {
        "colab": {
          "base_uri": "https://localhost:8080/",
          "height": 472
        },
        "id": "lw8CUKVk4lqL",
        "outputId": "3c6cace8-6da0-476d-9917-52f29d35530a"
      },
      "execution_count": null,
      "outputs": [
        {
          "output_type": "display_data",
          "data": {
            "text/plain": [
              "<Figure size 640x480 with 1 Axes>"
            ],
            "image/png": "[encoded data removed]"
          },
          "metadata": {}
        }
      ]
    },
    {
      "cell_type": "code",
      "source": [
        "from sklearn.neighbors import KNeighborsClassifier"
      ],
      "metadata": {
        "id": "-VZYHpih5JNe"
      },
      "execution_count": null,
      "outputs": []
    },
    {
      "cell_type": "code",
      "source": [
        "kne = KNeighborsClassifier()\n",
        "kne.fit(x_train, y_train)\n",
        "y_pred = kne.predict(x_test)\n",
        "acc = accuracy_score(y_test, y_pred)\n",
        "print('Accuracy_score', acc * 100)"
      ],
      "metadata": {
        "colab": {
          "base_uri": "https://localhost:8080/"
        },
        "id": "JHvNAc6Z541E",
        "outputId": "2d387dab-72af-405a-8f60-edee2788a701"
      },
      "execution_count": null,
      "outputs": [
        {
          "output_type": "stream",
          "name": "stdout",
          "text": [
            "Accuracy_score 94.38435940099833\n"
          ]
        }
      ]
    },
    {
      "cell_type": "code",
      "source": [
        "print('Classifiation_report')\n",
        "print(classification_report(y_test, y_pred))"
      ],
      "metadata": {
        "colab": {
          "base_uri": "https://localhost:8080/"
        },
        "id": "Rhm91JKD6Slv",
        "outputId": "aeb479e8-3d35-468d-bfa5-a7c4bbc2c4d7"
      },
      "execution_count": null,
      "outputs": [
        {
          "output_type": "stream",
          "name": "stdout",
          "text": [
            "Classifiation_report\n",
            "              precision    recall  f1-score   support\n",
            "\n",
            "           0       1.00      0.22      0.36       694\n",
            "           1       0.94      1.00      0.97      8922\n",
            "\n",
            "    accuracy                           0.94      9616\n",
            "   macro avg       0.97      0.61      0.67      9616\n",
            "weighted avg       0.95      0.94      0.93      9616\n",
            "\n"
          ]
        }
      ]
    },
    {
      "cell_type": "code",
      "source": [
        "sns.countplot(x=y_pred, palette='coolwarm')\n",
        "plt.title('Abusive vs Non-Abusive')\n",
        "plt.xlabel('Predicated Class')\n",
        "plt.ylabel('Count')\n",
        "plt.xticks(ticks=[0,1], labels = ['Non-Abusive', 'Abusive'])\n",
        "plt.show()"
      ],
      "metadata": {
        "colab": {
          "base_uri": "https://localhost:8080/",
          "height": 472
        },
        "id": "lxefk1zE6igx",
        "outputId": "21a2bc5e-b243-4162-eddb-02a8df971ab8"
      },
      "execution_count": null,
      "outputs": [
        {
          "output_type": "display_data",
          "data": {
            "text/plain": [
              "<Figure size 640x480 with 1 Axes>"
            ],
            "image/png": "[encoded data removed]"
          },
          "metadata": {}
        }
      ]
    },
    {
      "cell_type": "code",
      "source": [
        "import pickle"
      ],
      "metadata": {
        "id": "UKExSiQ57HZs"
      },
      "execution_count": null,
      "outputs": []
    },
    {
      "cell_type": "code",
      "source": [
        "with open('Email.pkl', 'wb') as file:\n",
        "   pickle.dump(ran, file)"
      ],
      "metadata": {
        "id": "8WYMxQGtBddf"
      },
      "execution_count": null,
      "outputs": []
    },
    {
      "cell_type": "code",
      "source": [],
      "metadata": {
        "id": "pJINZhY6B3C-"
      },
      "execution_count": null,
      "outputs": []
    }
  ]
}